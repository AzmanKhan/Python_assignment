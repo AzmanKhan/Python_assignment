{
 "cells": [
  {
   "cell_type": "markdown",
   "id": "5c2de0ac-eb60-49d4-baf0-394b4dd768ed",
   "metadata": {},
   "source": [
    "# 1 Write a Python program to print numbers from 1 to 10 using a for loop.\n"
   ]
  },
  {
   "cell_type": "code",
   "execution_count": 2,
   "id": "1ca56188-3fa5-4fc2-a5bf-464c42950558",
   "metadata": {},
   "outputs": [
    {
     "name": "stdout",
     "output_type": "stream",
     "text": [
      "1 2 3 4 5 6 7 8 9 10 "
     ]
    }
   ],
   "source": [
    "for i in range(1,11):\n",
    "    print(i , end =\" \")"
   ]
  },
  {
   "cell_type": "markdown",
   "id": "639d09c0-a634-4d21-9ab4-81efd801f43c",
   "metadata": {},
   "source": [
    "# 2 Explain the difference between a for loop and a while loop in Python."
   ]
  },
  {
   "cell_type": "raw",
   "id": "ca024562-32de-43fd-b080-5c71129b36ea",
   "metadata": {},
   "source": [
    "\n",
    "\n",
    "'''\n",
    "syntax for for loop is \n",
    "for variable in iterable :\n",
    "#for example :-\n",
    "\n",
    "\n",
    "animals =['loin' ,'Elephant ', 'Monkey']\n",
    "for animal in animals:\n",
    "    print(animal)\n",
    "\n",
    "output:-\n",
    "loin \n",
    "Elephant \n",
    "Monkey\n",
    "Here, iterable is a sequence or collection of elements, and the for loop iterates over each element,\n",
    "assigning it to the variable specified.\n",
    "The loop continues until all elements in the iterable have been processed.\n",
    "and syntax for the while loop is\n",
    "while condition:\n",
    "\n",
    "for example :\n",
    "\n",
    "count = 0\n",
    "while count < 3:\n",
    "    print(\"Count:\", count)\n",
    "    count += 1\n",
    "output :-\n",
    "Count: 0\n",
    "Count: 1\n",
    "Count: 2\n",
    "Here, condition is a Boolean expression, and the loop continues to execute as long as the condition remains true.'''"
   ]
  },
  {
   "cell_type": "markdown",
   "id": "73256d34-0d28-4523-a595-c76fa23cec94",
   "metadata": {},
   "source": [
    "# 3 Write a Python program to calculate the sum of all numbers from 1 to 100 using a for loop.\n"
   ]
  },
  {
   "cell_type": "code",
   "execution_count": 24,
   "id": "531fb01f-1e85-40b7-8b82-e6e46a0767e2",
   "metadata": {},
   "outputs": [
    {
     "name": "stdout",
     "output_type": "stream",
     "text": [
      "sum of all number from 1 to 100 is 5050\n"
     ]
    }
   ],
   "source": [
    "\n",
    "sums =0\n",
    "for i in range(1,101) :\n",
    "    sums = sums+i\n",
    "print(\"sum of all number from 1 to 100 is\" ,sums)"
   ]
  },
  {
   "cell_type": "markdown",
   "id": "f4c57ab0-e479-4599-b263-fcaafc68dfa2",
   "metadata": {},
   "source": [
    "# 4 How do you iterate through a list using a for loop in Python?\n"
   ]
  },
  {
   "cell_type": "code",
   "execution_count": 26,
   "id": "329959b8-2720-4868-9310-04039843023a",
   "metadata": {},
   "outputs": [
    {
     "name": "stdout",
     "output_type": "stream",
     "text": [
      "I like apple\n",
      "I like banana\n",
      "I like cherry\n"
     ]
    }
   ],
   "source": [
    "fruits = [\"apple\", \"banana\", \"cherry\"]\n",
    "\n",
    "for fruit in fruits:\n",
    "    print(\"I like\", fruit)"
   ]
  },
  {
   "cell_type": "markdown",
   "id": "5681908e-b4e5-4640-a651-15be6d10781e",
   "metadata": {},
   "source": [
    "# 5 Write a Python program to find the product of all elements in a list using a for loop.\n"
   ]
  },
  {
   "cell_type": "code",
   "execution_count": 33,
   "id": "e8da5eab-514e-430d-957d-7b5a4836f2ac",
   "metadata": {},
   "outputs": [
    {
     "name": "stdout",
     "output_type": "stream",
     "text": [
      "The product of all element in the list is 720\n"
     ]
    }
   ],
   "source": [
    "my_list = [1,2,3,4,5,6]\n",
    "product = 1\n",
    "for i in my_list:\n",
    "    product = i*product \n",
    "print (\"The product of all element in the list is\", product)"
   ]
  },
  {
   "cell_type": "markdown",
   "id": "ac7b6347-ade6-4a51-9672-807098ea3dba",
   "metadata": {},
   "source": [
    "# 6 Create a Python program that prints all even numbers from 1 to 20 using a for loop\n"
   ]
  },
  {
   "cell_type": "code",
   "execution_count": 36,
   "id": "c526da0f-1cde-44d3-b2ef-d68e96f39042",
   "metadata": {},
   "outputs": [
    {
     "name": "stdout",
     "output_type": "stream",
     "text": [
      "The even number from 1 to 20 are :\n",
      "2 4 6 8 10 12 14 16 18 20 "
     ]
    }
   ],
   "source": [
    "print(\"The even number from 1 to 20 are :\")\n",
    "for i in range (1,21):\n",
    "    if i %2==0: \n",
    "        print(i, end =\" \")"
   ]
  },
  {
   "cell_type": "markdown",
   "id": "21f4997a-7974-4c46-a350-a28d174c6368",
   "metadata": {},
   "source": [
    "# 7 Write a Python program that calculates the factorial of a number using a for loop.\n"
   ]
  },
  {
   "cell_type": "code",
   "execution_count": 39,
   "id": "1e0a08ed-ef5d-4075-899f-2f74ae268089",
   "metadata": {},
   "outputs": [
    {
     "name": "stdin",
     "output_type": "stream",
     "text": [
      "Enter a number 5\n"
     ]
    },
    {
     "name": "stdout",
     "output_type": "stream",
     "text": [
      "120\n"
     ]
    }
   ],
   "source": [
    "number = int(input(\"Enter a number\"))\n",
    "fact = 1\n",
    "for i in range(1,number+1):\n",
    "    fact = i*fact\n",
    "print(fact)\n"
   ]
  },
  {
   "cell_type": "markdown",
   "id": "c317b864-9559-4396-aa47-cac4d1965a26",
   "metadata": {},
   "source": [
    "# 8 How can you iterate through the characters of a string using a for loop in Python?\n"
   ]
  },
  {
   "cell_type": "code",
   "execution_count": 42,
   "id": "5e071937-ee23-4b75-a839-fabdea2faf3c",
   "metadata": {},
   "outputs": [
    {
     "name": "stdout",
     "output_type": "stream",
     "text": [
      "p\n",
      "w\n",
      "s\n",
      "k\n",
      "i\n",
      "l\n",
      "l\n",
      "s\n"
     ]
    }
   ],
   "source": [
    "my_string = \"pwskills\"\n",
    "\n",
    "for char in my_string:\n",
    "    print(char)\n"
   ]
  },
  {
   "cell_type": "markdown",
   "id": "9f6b1d81-88af-4c02-ac22-8000653e6fdb",
   "metadata": {},
   "source": [
    "# 9 Write a Python program to find the largest number in a list using a for loop.\n"
   ]
  },
  {
   "cell_type": "code",
   "execution_count": 49,
   "id": "5f5eee03-1384-4d34-b090-534db6cbc287",
   "metadata": {},
   "outputs": [
    {
     "name": "stdout",
     "output_type": "stream",
     "text": [
      "The largest numbr in the list is:  190\n"
     ]
    }
   ],
   "source": [
    "\n",
    "my_list = [2,3,5,6,8,9,12,36,65,77,57,190,10]\n",
    "largest = my_list[0]\n",
    "for i in my_list :\n",
    "    if i > largest:\n",
    "        largest = i\n",
    "print(\"The largest numbr in the list is: \",largest)\n"
   ]
  },
  {
   "cell_type": "markdown",
   "id": "d0c8fceb-d55d-4056-a0ff-375de2d47bc3",
   "metadata": {},
   "source": [
    "# 10 Create a Python program that prints the Fibonacci sequence up to a specified limit using a for loop.\n"
   ]
  },
  {
   "cell_type": "code",
   "execution_count": 62,
   "id": "4342dbcb-fbdf-4358-8dc4-9bccd2fa1794",
   "metadata": {},
   "outputs": [
    {
     "name": "stdout",
     "output_type": "stream",
     "text": [
      "Fibonacci sequence up to 50 [0, 1, 1, 2, 3, 5, 8, 13, 21, 34]\n"
     ]
    }
   ],
   "source": [
    "#[0,1,1,2,3,5,7,12]\n",
    "def fibonacci(limit):\n",
    "    sequence = [0, 1]\n",
    "\n",
    "    for i in range(limit):\n",
    "        next_number = sequence[-1] + sequence[-2]\n",
    "        if next_number > limit:\n",
    "            break\n",
    "        sequence.append(next_number)\n",
    "\n",
    "    return sequence\n",
    "limit = 50\n",
    "fibonacci_sequence = fibonacci(limit)\n",
    "print(\"Fibonacci sequence up to\", limit, fibonacci_sequence)\n"
   ]
  },
  {
   "cell_type": "markdown",
   "id": "c2d2ac54-7054-44c8-8e58-6fb568673c37",
   "metadata": {},
   "source": [
    "# 11 Write a Python program to count the number of vowels in a given string using a for loop\n"
   ]
  },
  {
   "cell_type": "code",
   "execution_count": 11,
   "id": "68642907-2def-4467-8422-08c585d6bdb8",
   "metadata": {},
   "outputs": [
    {
     "name": "stdin",
     "output_type": "stream",
     "text": [
      "Enter something pwskills\n"
     ]
    },
    {
     "name": "stdout",
     "output_type": "stream",
     "text": [
      "The number of vowel in the string is : 1\n"
     ]
    }
   ],
   "source": [
    "vowel = ['a' ,'e' ,'i', 'o', 'u','A' ,'E','I' ,'O','U']\n",
    "my_str = input(\"Enter something\")\n",
    "count = 0\n",
    "for i in my_str:\n",
    "    if i in vowel:\n",
    "        count +=1\n",
    "print(\"The number of vowel in the string is :\",count)"
   ]
  },
  {
   "cell_type": "markdown",
   "id": "088dde9d-319c-4827-95ff-9486a512873f",
   "metadata": {},
   "source": [
    "# 12 Create a Python program that generates a multiplication table for a given number using a for loop.\n"
   ]
  },
  {
   "cell_type": "code",
   "execution_count": 1,
   "id": "ac65d1aa-62af-47b6-b87a-8bd9a9da01ab",
   "metadata": {},
   "outputs": [
    {
     "name": "stdin",
     "output_type": "stream",
     "text": [
      "Enter any number: 19\n"
     ]
    },
    {
     "name": "stdout",
     "output_type": "stream",
     "text": [
      "19  x  1  =  19\n",
      "19  x  2  =  38\n",
      "19  x  3  =  57\n",
      "19  x  4  =  76\n",
      "19  x  5  =  95\n",
      "19  x  6  =  114\n",
      "19  x  7  =  133\n",
      "19  x  8  =  152\n",
      "19  x  9  =  171\n",
      "19  x  10  =  190\n",
      "\n"
     ]
    }
   ],
   "source": [
    "def printTable(n):\n",
    "    result =0\n",
    "    table = range(1,11)\n",
    "    for i in table:\n",
    "        result = n*i\n",
    "        print(n,\" x \",i,\" = \" ,result )\n",
    "    print()\n",
    "\n",
    "n = int(input(\"Enter any number:\"))\n",
    "printTable(n)"
   ]
  },
  {
   "cell_type": "markdown",
   "id": "713666df-beef-4e65-935e-bea7a2619965",
   "metadata": {},
   "source": [
    "# 13 Write a Python program to reverse a list using a for loop\n"
   ]
  },
  {
   "cell_type": "code",
   "execution_count": 4,
   "id": "939b4a9b-9b40-4257-b1b8-b87f226d5836",
   "metadata": {},
   "outputs": [
    {
     "name": "stdout",
     "output_type": "stream",
     "text": [
      "[5, 4, 3, 2, 1]\n"
     ]
    }
   ],
   "source": [
    "def reverseList(list1):\n",
    "    list2 = []\n",
    "    for i in range(len(list1) -1,-1,-1):\n",
    "        list2.append(list1[i])\n",
    "    return list2\n",
    "list1 = [1,2,3,4,5]\n",
    "new_list = reverseList(list1)\n",
    "print(new_list)"
   ]
  },
  {
   "cell_type": "markdown",
   "id": "94977ece-41fb-43cc-acc7-9fbdfefc2485",
   "metadata": {},
   "source": [
    "# 14 Write a Python program to find the common elements between two lists using a for loop.\n"
   ]
  },
  {
   "cell_type": "code",
   "execution_count": 11,
   "id": "489213c4-224e-45a5-ab4c-00a016606f7f",
   "metadata": {},
   "outputs": [
    {
     "name": "stdout",
     "output_type": "stream",
     "text": [
      "The common element are : [5, 6, 7]\n"
     ]
    }
   ],
   "source": [
    "def findCommon(list1, list2):\n",
    "    commonElement =[]\n",
    "    for i in list1:\n",
    "        if i in list2 :\n",
    "            commonElement.append(i)\n",
    "    return commonElement\n",
    "list1 = [1,2,3,4,5,6,7]\n",
    "list2 = [5,6,7,8,9,10]\n",
    "result = findCommon(list1, list2)\n",
    "print(\"The common element are :\", result)\n"
   ]
  },
  {
   "cell_type": "markdown",
   "id": "3e3c47a0-b776-4fac-8b36-cd4283834628",
   "metadata": {},
   "source": [
    "# 15 Explain how to use a for loop to iterate through the keys and values of a dictionary in Python\n"
   ]
  },
  {
   "cell_type": "code",
   "execution_count": 37,
   "id": "dc0b95ef-9f37-4c89-b250-2a59a4308ede",
   "metadata": {},
   "outputs": [
    {
     "name": "stdout",
     "output_type": "stream",
     "text": [
      "key :  name , Value : Sunny\n",
      "key :  age , Value : 25\n",
      "key :  likes , Value : ('food', 'money', 'play')\n",
      "key :  city , Value : New York\n"
     ]
    }
   ],
   "source": [
    "dictionary  = {'name' : 'Sunny' ,'age': 25,'likes':('food','money','play') ,'city': 'New York'}\n",
    "for key ,value in dictionary.items():\n",
    "    print(\"key : \" , key , \",\" , \"Value :\",value)"
   ]
  },
  {
   "cell_type": "markdown",
   "id": "451fbff6-acba-48f0-a171-a4cf7e12c3c2",
   "metadata": {},
   "source": [
    "# 16 Write a Python program to find the GCD (Greatest Common Divisor) of two numbers using a for loop\n"
   ]
  },
  {
   "cell_type": "code",
   "execution_count": 40,
   "id": "188dfed2-dce2-4477-95a2-22311de8c165",
   "metadata": {},
   "outputs": [
    {
     "name": "stdin",
     "output_type": "stream",
     "text": [
      "Enter First number: 13\n",
      "Enter second number: 10\n"
     ]
    },
    {
     "name": "stdout",
     "output_type": "stream",
     "text": [
      "The Greatet Common Factor  is  10\n"
     ]
    }
   ],
   "source": [
    "def find_GDC(a,b):\n",
    "    if a>b:\n",
    "        a = b\n",
    "        b = a\n",
    "    for i in range (b , 0, -1):\n",
    "        if a% i == 0 and b%i ==0 :\n",
    "            return i\n",
    "        \n",
    "num1 = int(input(\"Enter First number:\"))\n",
    "num2 = int(input(\"Enter second number:\"))\n",
    "result = find_GDC(num1,num2)\n",
    "print(\"The Greatet Common Factor  is \",result)\n"
   ]
  },
  {
   "cell_type": "markdown",
   "id": "fc902737-1ab9-41c8-91f2-a6c8ba832b92",
   "metadata": {},
   "source": [
    "# 17 Create a Python program that checks if a string is a palindrome using a for loop.\n"
   ]
  },
  {
   "cell_type": "code",
   "execution_count": 3,
   "id": "400e75e9-0c88-4ee3-af1c-1e40ce69558d",
   "metadata": {},
   "outputs": [
    {
     "name": "stdout",
     "output_type": "stream",
     "text": [
      "True\n"
     ]
    }
   ],
   "source": [
    "def checkPalindrome(n):\n",
    "    #removing space and changing into lower case\n",
    "    n = n.replace(\" \",\"\").lower()\n",
    "    for i in range(len(n)):\n",
    "        if n[i] != n[len(n)-1 -i]:\n",
    "            return False\n",
    "    return True\n",
    "string = \"hello lleh\"\n",
    "result = checkPalindrome(string)\n",
    "print(result)"
   ]
  },
  {
   "cell_type": "markdown",
   "id": "934aa4eb-38ae-44fb-9169-f4647fd75530",
   "metadata": {},
   "source": [
    "# 18 Write a Python program to remove duplicates from a list using a for loop.\n"
   ]
  },
  {
   "cell_type": "code",
   "execution_count": 6,
   "id": "3e882b94-3a0e-4fea-a823-1d057f6f903f",
   "metadata": {},
   "outputs": [
    {
     "name": "stdout",
     "output_type": "stream",
     "text": [
      "The list after removing Duplicate : [1, 2, 3, 4, 5, 6, 7]\n"
     ]
    }
   ],
   "source": [
    "def checkDup(list1):\n",
    "    list2 =[]\n",
    "    for i in list1:\n",
    "        if i not in list2:\n",
    "            list2.append(i)\n",
    "    return list2\n",
    "list1 = [1,2,3,4,4,5,5,6,7,7,7]\n",
    "result = checkDup(list1)\n",
    "print(\"The list after removing Duplicate :\",result)\n"
   ]
  },
  {
   "cell_type": "markdown",
   "id": "99035f83-f368-469a-b343-04a2c8daeddf",
   "metadata": {},
   "source": [
    "# 19 Create a Python program that counts the number of words in a sentence using a for loop.\n"
   ]
  },
  {
   "cell_type": "code",
   "execution_count": 30,
   "id": "50100711-4b05-4f55-afbc-a68ff03c2af5",
   "metadata": {},
   "outputs": [
    {
     "name": "stdout",
     "output_type": "stream",
     "text": [
      "Total number of worda in a sentence is : 13\n"
     ]
    }
   ],
   "source": [
    "def countWord(s):\n",
    "    count =0\n",
    "    s = s.replace(\" \",\"\")\n",
    "    for i in s:\n",
    "        count = count+1\n",
    "    return count\n",
    "string = 'my name is azman'\n",
    "result = countWord(string)\n",
    "print(\"Total number of worda in a sentence is :\",result)\n",
    "        "
   ]
  },
  {
   "cell_type": "markdown",
   "id": "36d171a4-a7bc-404f-badd-21980eb4f304",
   "metadata": {},
   "source": [
    "# 20 Write a Python program to find the sum of all odd numbers from 1 to 50 using a for loop.\n"
   ]
  },
  {
   "cell_type": "code",
   "execution_count": 38,
   "id": "ad875f52-eb65-4b2c-8c99-e7ee8061830b",
   "metadata": {},
   "outputs": [
    {
     "name": "stdout",
     "output_type": "stream",
     "text": [
      "The sum of all odd num from 1 to 50 is : 625\n"
     ]
    }
   ],
   "source": [
    "list1 = list(range (1,51))\n",
    "sums =0\n",
    "for i in list1:\n",
    "    if i%2 != 0:\n",
    "        sums = sums+i\n",
    "print(\"The sum of all odd num from 1 to 50 is :\",sums)\n"
   ]
  },
  {
   "cell_type": "markdown",
   "id": "7a0e1152-096f-4e9b-8741-d1e85781c868",
   "metadata": {},
   "source": [
    "# 21 Write a Python program that checks if a given year is a leap year using a for loop\n"
   ]
  },
  {
   "cell_type": "code",
   "execution_count": 47,
   "id": "08898b06-b106-49ae-ad62-e0ff46df8777",
   "metadata": {},
   "outputs": [
    {
     "name": "stdout",
     "output_type": "stream",
     "text": [
      "2000 is a leap year.\n",
      "2004 is a leap year.\n",
      "2100 is not a leap year.\n",
      "2024 is a leap year.\n",
      "2022 is not a leap year.\n"
     ]
    }
   ],
   "source": [
    "def check_leap_year(year):\n",
    "        if (year%4==0 and year%100 !=0 ) or (year %400 ==0):\n",
    "            return True \n",
    "        else :\n",
    "            return False \n",
    "year_to_check = [2000, 2004, 2100, 2024, 2022]\n",
    "for year in year_to_check:\n",
    "    if check_leap_year(year):\n",
    "        print(f\"{year} is a leap year.\")\n",
    "    else:\n",
    "        print(f\"{year} is not a leap year.\")"
   ]
  },
  {
   "cell_type": "markdown",
   "id": "4951b2ce-4587-4475-889c-c0698136343d",
   "metadata": {},
   "source": [
    "# 22 Create a Python program that calculates the square root of a number using a for loop.\n"
   ]
  },
  {
   "cell_type": "code",
   "execution_count": 50,
   "id": "bd5a1711-0ff7-45df-8b75-ab25b8d2e146",
   "metadata": {},
   "outputs": [
    {
     "name": "stdin",
     "output_type": "stream",
     "text": [
      "Enter a number:  3\n"
     ]
    },
    {
     "name": "stdout",
     "output_type": "stream",
     "text": [
      "The square root of 3.0 is approximately 1.7320508075688772\n"
     ]
    }
   ],
   "source": [
    "def calculate_square_root(number, iterations=100):\n",
    "    guess = 1.0\n",
    "\n",
    "    for _ in range(iterations):\n",
    "        guess = 0.5 * (guess + number / guess)\n",
    "\n",
    "    return guess\n",
    "\n",
    "# Example usage:\n",
    "number = float(input(\"Enter a number: \"))\n",
    "result = calculate_square_root(number)\n",
    "\n",
    "print(f\"The square root of {number} is approximately {result}\")\n"
   ]
  },
  {
   "cell_type": "markdown",
   "id": "95e5f57d-0ee9-443c-a53a-8e2ee2ba9a7a",
   "metadata": {},
   "source": [
    "# 23 Write a Python program to find the LCM (Least Common Multiple) of two numbers using a for loop.\n"
   ]
  },
  {
   "cell_type": "code",
   "execution_count": 51,
   "id": "0eeb2831-827d-4b96-a9fe-0a7c7a4d0be5",
   "metadata": {},
   "outputs": [
    {
     "name": "stdin",
     "output_type": "stream",
     "text": [
      "Enter the first number:  12\n",
      "Enter the second number:  8\n"
     ]
    },
    {
     "name": "stdout",
     "output_type": "stream",
     "text": [
      "The LCM of 12 and 8 is: 24\n"
     ]
    }
   ],
   "source": [
    "def find_lcm(a, b):\n",
    "    # Determine the larger and smaller numbers\n",
    "    larger = max(a, b)\n",
    "    smaller = min(a, b)\n",
    "\n",
    "    # Start iterating from the larger number\n",
    "    for i in range(larger, larger * smaller + 1, larger):\n",
    "        if i % smaller == 0:\n",
    "            lcm = i\n",
    "            break\n",
    "            \n",
    "    return lcm\n",
    "\n",
    "# Example usage:\n",
    "num1 = int(input(\"Enter the first number: \"))\n",
    "num2 = int(input(\"Enter the second number: \"))\n",
    "\n",
    "lcm_result = find_lcm(num1, num2)\n",
    "\n",
    "print(f\"The LCM of {num1} and {num2} is: {lcm_result}\")\n"
   ]
  },
  {
   "cell_type": "markdown",
   "id": "1b81ae3f-1718-4319-983a-f858c1a7f7d1",
   "metadata": {},
   "source": [
    "# 1 Write a Python program to check if a number is positive, negative, or zero using an if-else statement\n"
   ]
  },
  {
   "cell_type": "code",
   "execution_count": 4,
   "id": "f2f2ca0b-d442-48db-a574-fe62ffdfa557",
   "metadata": {},
   "outputs": [
    {
     "name": "stdin",
     "output_type": "stream",
     "text": [
      "enter any number 0\n"
     ]
    },
    {
     "name": "stdout",
     "output_type": "stream",
     "text": [
      "Zero\n"
     ]
    }
   ],
   "source": [
    "def check_number(number):\n",
    "    if number >0:\n",
    "        print(\"Positive number \")\n",
    "    elif number<0:\n",
    "        print(\"Negative number \")\n",
    "    else :\n",
    "        print(\"Zero\")\n",
    "number = int(input(\"enter any number\"))\n",
    "check_number(number)"
   ]
  },
  {
   "cell_type": "markdown",
   "id": "c238b488-9462-40c1-aa45-8442c54e334a",
   "metadata": {},
   "source": [
    "# 2 Create a Python program that checks if a given number is even or odd using an if-else statement.\n"
   ]
  },
  {
   "cell_type": "code",
   "execution_count": 7,
   "id": "c237100e-77f3-4c35-8ab9-5d5a012ca5bd",
   "metadata": {},
   "outputs": [
    {
     "name": "stdin",
     "output_type": "stream",
     "text": [
      "enter any number 3\n"
     ]
    },
    {
     "name": "stdout",
     "output_type": "stream",
     "text": [
      "Number is odd\n"
     ]
    }
   ],
   "source": [
    "def check_even_odd(num):\n",
    "    if num%2 ==0:\n",
    "        print(\"Number is even\")\n",
    "    else:\n",
    "        print(\"Number is odd\")\n",
    "number = int(input(\"enter any number\"))\n",
    "check_even_odd(number)"
   ]
  },
  {
   "cell_type": "markdown",
   "id": "09e0a078-167b-4bca-83ab-8e4a39655b3b",
   "metadata": {},
   "source": [
    "# 3 How can you use nested if-else statements in Python, and provide an example?\n"
   ]
  },
  {
   "cell_type": "code",
   "execution_count": 16,
   "id": "cf204844-dd0f-471f-b0b1-4f129f080669",
   "metadata": {},
   "outputs": [
    {
     "name": "stdin",
     "output_type": "stream",
     "text": [
      "enter any number 1\n"
     ]
    },
    {
     "name": "stdout",
     "output_type": "stream",
     "text": [
      "The number is positive.\n",
      "The number is not greater than 10.\n"
     ]
    }
   ],
   "source": [
    "number = int(input(\"enter any number\"))\n",
    "\n",
    "if number > 0:\n",
    "    print(\"The number is positive.\")\n",
    "    if number > 10:\n",
    "        print(\"The number is greater than 10.\")\n",
    "    else:\n",
    "        print(\"The number is not greater than 10.\")\n",
    "else:\n",
    "    if number == 0:\n",
    "        print(\"The number is zero.\")\n",
    "    else:\n",
    "        print(\"The number is negative.\")\n"
   ]
  },
  {
   "cell_type": "markdown",
   "id": "5fd86de1-c586-4b92-a577-6a6c69253a8d",
   "metadata": {},
   "source": [
    "# 4 Write a Python program to determine the largest of three numbers using if-else.\n"
   ]
  },
  {
   "cell_type": "code",
   "execution_count": 18,
   "id": "4e1d2025-ff0a-44b1-8345-283fabb4753e",
   "metadata": {},
   "outputs": [
    {
     "name": "stdin",
     "output_type": "stream",
     "text": [
      "enter first number 13\n",
      "enter second  number 33\n",
      "enter third number 90\n"
     ]
    },
    {
     "name": "stdout",
     "output_type": "stream",
     "text": [
      "The largest number is  90\n"
     ]
    }
   ],
   "source": [
    "def find_largest(a,b,c):\n",
    "    if a > b and a>c:\n",
    "        print(\"The largest number is\",a)\n",
    "    elif b>a and b>c:\n",
    "        print(\"The largest number is \", b)\n",
    "    else :\n",
    "        print(\"The largest number is \", c)\n",
    "        \n",
    "num1 = int(input(\"enter first number\"))\n",
    "num2 = int(input(\"enter second  number\"))\n",
    "num3 = int(input(\"enter third number\"))\n",
    "find_largest(num1,num2,num3)"
   ]
  },
  {
   "cell_type": "markdown",
   "id": "8a0623ca-55f5-4699-b0a1-3c32c0204fff",
   "metadata": {},
   "source": [
    "# 5 Write a Python program that calculates the absolute value of a number using if-else.\n"
   ]
  },
  {
   "cell_type": "code",
   "execution_count": 12,
   "id": "d54318e3-9210-4f35-bbd5-bb3f5e3cd723",
   "metadata": {},
   "outputs": [
    {
     "name": "stdin",
     "output_type": "stream",
     "text": [
      "Enter the number 223\n"
     ]
    },
    {
     "name": "stdout",
     "output_type": "stream",
     "text": [
      "The absalute value is : 223.0\n"
     ]
    }
   ],
   "source": [
    "number = float(input(\"Enter the number\"))\n",
    "if number <0:\n",
    "    absalute = -number\n",
    "else:\n",
    "    absalute = abs(number)\n",
    "print(\"The absalute value is :\", number)"
   ]
  },
  {
   "cell_type": "markdown",
   "id": "2144809b-39fd-4bf0-9fd7-8341539adabb",
   "metadata": {},
   "source": [
    "# 6 Create a Python program that checks if a given character is a vowel or consonant using if-else.\n"
   ]
  },
  {
   "cell_type": "code",
   "execution_count": 28,
   "id": "7930dc28-7892-442e-a48e-cc3748eee627",
   "metadata": {},
   "outputs": [
    {
     "name": "stdin",
     "output_type": "stream",
     "text": [
      "enter any char d\n"
     ]
    },
    {
     "name": "stdout",
     "output_type": "stream",
     "text": [
      "d Character is a consonent \n"
     ]
    }
   ],
   "source": [
    "char = input (\"enter any char\")\n",
    "vowel = ('a','e','i','o','u','A','E','I','O','U')\n",
    "if char in vowel :\n",
    "    print (\"The Charcter is vowel \")\n",
    "else:\n",
    "    print(char,\"Character is a consonent \")"
   ]
  },
  {
   "cell_type": "markdown",
   "id": "53024ef0-6cd8-4fa9-bd9b-8d02eaddba82",
   "metadata": {},
   "source": [
    "# 7 Write a Python program to determine if a user is eligible to vote based on their age using if-else.\n"
   ]
  },
  {
   "cell_type": "code",
   "execution_count": 30,
   "id": "f4f259ba-5128-4f9f-b892-12b885fefa0a",
   "metadata": {},
   "outputs": [
    {
     "name": "stdin",
     "output_type": "stream",
     "text": [
      "Enter your age : 19\n"
     ]
    },
    {
     "name": "stdout",
     "output_type": "stream",
     "text": [
      "You are eligible to Vote\n"
     ]
    }
   ],
   "source": [
    "age = int (input (\"Enter your age :\"))\n",
    "if age >=18 :\n",
    "    print(\"You are eligible to Vote\")\n",
    "else :\n",
    "    print(\"you are not eligible to Vote\")"
   ]
  },
  {
   "cell_type": "markdown",
   "id": "3a4a5616-7b65-49fd-b3ad-4a7458616a3a",
   "metadata": {},
   "source": [
    "# 8 Create a Python program that calculates the discount amount based on the purchase amount using if-else.\n"
   ]
  },
  {
   "cell_type": "code",
   "execution_count": 13,
   "id": "f7f24f59-31d9-4945-9730-c9a4abe59d3c",
   "metadata": {},
   "outputs": [
    {
     "name": "stdin",
     "output_type": "stream",
     "text": [
      "Enter the amount: 1200\n"
     ]
    },
    {
     "name": "stdout",
     "output_type": "stream",
     "text": [
      "Original Price: $1200.00\n",
      "Discount Percentage: 10%\n",
      "Discount Amount: $120.00\n",
      "Discounted Price: $1080.00\n"
     ]
    }
   ],
   "source": [
    "purchase_amount = float(input(\"Enter the amount:\"))\n",
    "if purchase_amount >= 100:\n",
    "    discount_percentage = 10\n",
    "else:\n",
    "    discount_percentage = 5\n",
    "discount_amount = (discount_percentage / 100) * purchase_amount\n",
    "discounted_price = purchase_amount - discount_amount\n",
    "\n",
    "print(f\"Original Price: ${purchase_amount:.2f}\")\n",
    "print(f\"Discount Percentage: {discount_percentage}%\")\n",
    "print(f\"Discount Amount: ${discount_amount:.2f}\")\n",
    "print(f\"Discounted Price: ${discounted_price:.2f}\")"
   ]
  },
  {
   "cell_type": "markdown",
   "id": "6757d6e0-a67e-4ef0-ad58-d601b0fb19eb",
   "metadata": {},
   "source": [
    "# 9 Write a Python program to check if a number is within a specified range using if-else.\n"
   ]
  },
  {
   "cell_type": "code",
   "execution_count": 21,
   "id": "86c6e855-079b-4889-bb07-de28515f98e2",
   "metadata": {},
   "outputs": [
    {
     "name": "stdin",
     "output_type": "stream",
     "text": [
      "Enter a number  1\n"
     ]
    },
    {
     "name": "stdout",
     "output_type": "stream",
     "text": [
      "The number is in the specified range\n"
     ]
    }
   ],
   "source": [
    "def check(number ,inRange):\n",
    "    if number in inRange:\n",
    "        return True \n",
    "    else:\n",
    "        return False\n",
    "number = int(input(\"Enter a number \"))\n",
    "inRange = range (1,50)\n",
    "if check(number,inRange):\n",
    "    print(\"The number is in the specified range\")\n",
    "else :\n",
    "    print(\"The number is not in the specified range\")"
   ]
  },
  {
   "cell_type": "markdown",
   "id": "edea87ee-3b13-4f32-800c-d931b76a586f",
   "metadata": {},
   "source": [
    "# 10 Create a Python program that determines the grade of a student based on their score using if-else.\n"
   ]
  },
  {
   "cell_type": "code",
   "execution_count": 27,
   "id": "da3f4857-6461-4617-a3e6-c8c9c34af643",
   "metadata": {},
   "outputs": [
    {
     "name": "stdin",
     "output_type": "stream",
     "text": [
      "Enter your score : 78\n"
     ]
    },
    {
     "name": "stdout",
     "output_type": "stream",
     "text": [
      "Your grade is \n",
      "B\n"
     ]
    }
   ],
   "source": [
    "def giveGrade(score):\n",
    "    if score in range(90,101):\n",
    "        print(\"A\")\n",
    "    elif score in range(70,90):\n",
    "        print(\"B\")\n",
    "    elif score in range(50,70):\n",
    "        print(\"C\")\n",
    "    else:\n",
    "        print(\"D\")\n",
    "score = int(input(\"Enter your score :\"))\n",
    "print (\"Your grade is \")\n",
    "grade = giveGrade(score)\n"
   ]
  },
  {
   "cell_type": "markdown",
   "id": "20144091-2844-4e4c-a4cb-911d48310654",
   "metadata": {},
   "source": [
    "# 11 Write a Python program to check if a string is empty or not using if-else.\n"
   ]
  },
  {
   "cell_type": "code",
   "execution_count": 32,
   "id": "21ef50de-0501-44f1-9be8-bff8dc8271de",
   "metadata": {},
   "outputs": [
    {
     "name": "stdin",
     "output_type": "stream",
     "text": [
      "Enter a string:  \n"
     ]
    },
    {
     "name": "stdout",
     "output_type": "stream",
     "text": [
      "The string is empty.\n"
     ]
    }
   ],
   "source": [
    "\n",
    "user_input = input(\"Enter a string: \")\n",
    "\n",
    "if not user_input:\n",
    "    print(\"The string is empty.\")\n",
    "else:\n",
    "    print(\"The string is not empty.\") \n"
   ]
  },
  {
   "cell_type": "markdown",
   "id": "556fbd27-e6a2-4ece-84fa-193b060ed2f1",
   "metadata": {},
   "source": [
    "# 12 Create a Python program that identifies the type of a triangle (e.g., equilateral, isosceles, or scalene) based on input values using if-else.\n"
   ]
  },
  {
   "cell_type": "code",
   "execution_count": 4,
   "id": "7be30d44-57af-42f0-93bd-d8500d7a5056",
   "metadata": {},
   "outputs": [
    {
     "name": "stdin",
     "output_type": "stream",
     "text": [
      "Enter side 1 12\n",
      "Enter side 2 13\n",
      "Enter side 3 14\n"
     ]
    },
    {
     "name": "stdout",
     "output_type": "stream",
     "text": [
      "scalene triangle\n"
     ]
    }
   ],
   "source": [
    "def identify_triangle(side1 ,side2 ,side3):\n",
    "    if side1 == side2 ==side3:\n",
    "        print(\"Equilateral Triangle\")\n",
    "    elif side1 == side2 or side2 == side3 or side3 == side1:\n",
    "        print (\"Isosceles Triangle\")\n",
    "    else :\n",
    "        print(\"scalene triangle\")\n",
    "a = int(input(\"Enter the length of side 1\"))\n",
    "b = int(input(\"Enter the length of side 2\"))    \n",
    "c = int(input(\"Enter the length of side 3\")) \n",
    "identify_triangle(a,b,c)"
   ]
  },
  {
   "cell_type": "markdown",
   "id": "c50e2bee-79a0-4d69-b8da-1fcb3ab9f6f0",
   "metadata": {},
   "source": [
    "# 13 Write a Python program to determine the day of the week based on a user-provided number using if-else.\n"
   ]
  },
  {
   "cell_type": "code",
   "execution_count": 7,
   "id": "7f1da55f-aa20-46c2-acdb-af783c75ccf9",
   "metadata": {},
   "outputs": [
    {
     "name": "stdin",
     "output_type": "stream",
     "text": [
      "Enter the year (e.g., 2023):  2000\n",
      "Enter the month (1-12):  12\n",
      "Enter the day of the month (1-31):  7\n"
     ]
    },
    {
     "name": "stdout",
     "output_type": "stream",
     "text": [
      "The day of the week for 7/12/2000 is Thursday.\n"
     ]
    }
   ],
   "source": [
    "\n",
    "import datetime\n",
    "\n",
    "year = int(input(\"Enter the year (e.g., 2023): \"))\n",
    "month = int(input(\"Enter the month (1-12): \"))\n",
    "day = int(input(\"Enter the day of the month (1-31): \"))\n",
    "\n",
    "# Create a datetime object\n",
    "input_date = datetime.date(year, month, day)\n",
    "\n",
    "# Get the day of the week as an integer (Monday is 0 and Sunday is 6)\n",
    "day_of_week = input_date.weekday()\n",
    "\n",
    "# Define days of the week\n",
    "days_of_week = [\"Monday\", \"Tuesday\", \"Wednesday\", \"Thursday\", \"Friday\", \"Saturday\", \"Sunday\"]\n",
    "\n",
    "if day_of_week == 0:\n",
    "    print(f\"The day of the week for {day}/{month}/{year} is {days_of_week[0]}.\")\n",
    "elif day_of_week == 1:\n",
    "    print(f\"The day of the week for {day}/{month}/{year} is {days_of_week[1]}.\")\n",
    "elif day_of_week == 2:\n",
    "    print(f\"The day of the week for {day}/{month}/{year} is {days_of_week[2]}.\")\n",
    "elif day_of_week == 3:\n",
    "    print(f\"The day of the week for {day}/{month}/{year} is {days_of_week[3]}.\")\n",
    "elif day_of_week == 4:\n",
    "    print(f\"The day of the week for {day}/{month}/{year} is {days_of_week[4]}.\")\n",
    "elif day_of_week == 5:\n",
    "    print(f\"The day of the week for {day}/{month}/{year} is {days_of_week[5]}.\")\n",
    "else:\n",
    "    print(f\"The day of the week for {day}/{month}/{year} is {days_of_week[6]}.\")\n"
   ]
  },
  {
   "cell_type": "markdown",
   "id": "6c3615ab-beae-4319-abfa-8094edab57f1",
   "metadata": {},
   "source": [
    "# 14 Create a Python program that checks if a given year is a leap year using both if-else and a function.\n"
   ]
  },
  {
   "cell_type": "code",
   "execution_count": 10,
   "id": "b6a32e50-7a6f-467f-8ec5-60a0d62b35ea",
   "metadata": {},
   "outputs": [
    {
     "name": "stdin",
     "output_type": "stream",
     "text": [
      "Enter the year 2002\n"
     ]
    },
    {
     "name": "stdout",
     "output_type": "stream",
     "text": [
      "2002 is not a leap year.\n"
     ]
    }
   ],
   "source": [
    "def check_leap_year(year):\n",
    "        if (year%4==0 and year%100 !=0 ) or (year %400 ==0):\n",
    "            return True \n",
    "        else :\n",
    "            return False \n",
    "year  = int(input(\"Enter the year\"))\n",
    "if check_leap_year(year):\n",
    "    print(f\"{year} is a leap year.\")\n",
    "else:\n",
    "    print(f\"{year} is not a leap year.\")"
   ]
  },
  {
   "cell_type": "markdown",
   "id": "b237e969-5112-434f-b332-c15aae2f7d37",
   "metadata": {},
   "source": [
    "# 15 How do you use the \"assert\" statement in Python to add debugging checks within if-else blocks\n"
   ]
  },
  {
   "cell_type": "code",
   "execution_count": 7,
   "id": "5a2e42b0-6030-4b1e-a3ba-5eddaeaa7616",
   "metadata": {},
   "outputs": [
    {
     "name": "stdout",
     "output_type": "stream",
     "text": [
      "Error: Value must be greater than 0\n"
     ]
    }
   ],
   "source": [
    "def example_function(value):\n",
    "    if value > 0:\n",
    "        result = value * 2\n",
    "    elif value == 0:\n",
    "        result = 0\n",
    "    else:\n",
    "        # Ensure that the value is not negative using assert\n",
    "        assert value > 0, \"Value must be greater than 0\"\n",
    "        result = None  # This line is never reached if the assert condition holds\n",
    "    \n",
    "    return result\n",
    "\n",
    "# Test the function\n",
    "input_value = -5\n",
    "try:\n",
    "    output = example_function(input_value)\n",
    "    print(f\"Output: {output}\")\n",
    "except Exception as e:\n",
    "    print(f\"Error: {e}\")\n"
   ]
  },
  {
   "cell_type": "markdown",
   "id": "a3a4a83b-f7c4-4367-8a5a-0afabc25e1ac",
   "metadata": {},
   "source": [
    "# 16 Create a Python program that determines the eligibility of a person for a senior citizen discount based on age using if-else.\n"
   ]
  },
  {
   "cell_type": "code",
   "execution_count": 15,
   "id": "401c710d-0365-41d6-92d4-135429058cce",
   "metadata": {},
   "outputs": [
    {
     "name": "stdout",
     "output_type": "stream",
     "text": [
      "Not eligible for senior citizen discount ,Total amount to be paid is\n",
      "90000\n"
     ]
    }
   ],
   "source": [
    "def check_age(age,amount):\n",
    "    if age >= 60:\n",
    "        print (\"Senior Citizen discount is applied, Amount after discount is : \")\n",
    "        amount  = amount *(20/100)\n",
    "        return amount\n",
    "    else:\n",
    "        age < 60 \n",
    "        print(\"Not eligible for senior citizen discount ,Total amount to be paid is\")\n",
    "        return amount\n",
    "result = check_age(55, 90000)\n",
    "print(result)\n",
    "        "
   ]
  },
  {
   "cell_type": "markdown",
   "id": "b9d4cb37-00dd-4a4a-bc48-0366d590fa65",
   "metadata": {},
   "source": [
    "# 17 Write a Python program to categorize a given character as uppercase, lowercase, or neither using if-else.\n"
   ]
  },
  {
   "cell_type": "code",
   "execution_count": 34,
   "id": "fee73b10-a607-4b27-bb89-bdc0941a2e20",
   "metadata": {},
   "outputs": [
    {
     "name": "stdin",
     "output_type": "stream",
     "text": [
      "enter any charcter 1\n"
     ]
    },
    {
     "name": "stdout",
     "output_type": "stream",
     "text": [
      "Enter the correct character\n"
     ]
    }
   ],
   "source": [
    "def caterize_char(char):\n",
    "    if char.isalpha():\n",
    "        if char == char.lower():\n",
    "            print(\"the character is in lower case\")\n",
    "        \n",
    "        elif char == char.upper():\n",
    "             print(\"The character is in upper case\")\n",
    "\n",
    "    else :\n",
    "        print(\"Enter the correct character\")\n",
    "\n",
    "c = input(\"enter any charcter\")\n",
    "caterize_char(c)"
   ]
  },
  {
   "cell_type": "markdown",
   "id": "292ad858-a0f5-49b9-85e5-0e9d1ed61300",
   "metadata": {},
   "source": [
    "# 18 Write a Python program to determine the roots of a quadratic equation using if-else. \n"
   ]
  },
  {
   "cell_type": "code",
   "execution_count": 1,
   "id": "7fc5d8f6-7ae9-48f5-9df7-ad777857b808",
   "metadata": {},
   "outputs": [
    {
     "name": "stdin",
     "output_type": "stream",
     "text": [
      "Enter the coefficient a:  12\n",
      "Enter the coefficient b:  11\n",
      "Enter the coefficient c:  10\n"
     ]
    },
    {
     "name": "stdout",
     "output_type": "stream",
     "text": [
      "The roots of the quadratic equation are: (-0.4583333333333333+0.789470638395684j) and (-0.4583333333333333-0.789470638395684j)\n"
     ]
    }
   ],
   "source": [
    "import cmath\n",
    "\n",
    "def quadratic_roots(a, b, c):\n",
    "    # Calculate the discriminant\n",
    "    discriminant = b**2 - 4*a*c\n",
    "\n",
    "    # Check the value of the discriminant\n",
    "    if discriminant > 0:\n",
    "        # Two distinct real roots\n",
    "        root1 = (-b + cmath.sqrt(discriminant)) / (2*a)\n",
    "        root2 = (-b - cmath.sqrt(discriminant)) / (2*a)\n",
    "        return root1, root2\n",
    "    elif discriminant == 0:\n",
    "        # One real root (double root)\n",
    "        root = -b / (2*a)\n",
    "        return root,\n",
    "    else:\n",
    "        # Two complex roots\n",
    "        real_part = -b / (2*a)\n",
    "        imaginary_part = cmath.sqrt(abs(discriminant)) / (2*a)\n",
    "        root1 = complex(real_part, imaginary_part)\n",
    "        root2 = complex(real_part, -imaginary_part)\n",
    "        return root1, root2\n",
    "\n",
    "# Get coefficients from the user\n",
    "a = float(input(\"Enter the coefficient a: \"))\n",
    "b = float(input(\"Enter the coefficient b: \"))\n",
    "c = float(input(\"Enter the coefficient c: \"))\n",
    "\n",
    "# Determine and print the roots\n",
    "roots = quadratic_roots(a, b, c)\n",
    "\n",
    "if len(roots) == 2:\n",
    "    print(f\"The roots of the quadratic equation are: {roots[0]} and {roots[1]}\")\n",
    "elif len(roots) == 1:\n",
    "    print(f\"The root of the quadratic equation is: {roots[0]}\")\n",
    "else:\n",
    "    print(f\"The roots of the quadratic equation are complex: {roots[0]} and {roots[1]}\")\n",
    "\n",
    "\n"
   ]
  },
  {
   "cell_type": "markdown",
   "id": "7f71d9f1-1a22-4c15-9691-8d4da9b8011b",
   "metadata": {},
   "source": [
    "# 19 Create a Python program that checks if a given year is a century year or not using if-else.\n"
   ]
  },
  {
   "cell_type": "code",
   "execution_count": 8,
   "id": "5cf95152-9c2c-4b3e-81d2-6a3686b36e32",
   "metadata": {},
   "outputs": [
    {
     "name": "stdin",
     "output_type": "stream",
     "text": [
      "enter the year 1600\n"
     ]
    },
    {
     "name": "stdout",
     "output_type": "stream",
     "text": [
      "year is century year\n"
     ]
    }
   ],
   "source": [
    "def check_century_year(year):\n",
    "    if year%100== 0:\n",
    "        print(\"year is century year\")\n",
    "    else :\n",
    "        print (\"not a century year\")\n",
    "year = int(input(\"enter the year\"))\n",
    "check_century_year(year)"
   ]
  },
  {
   "cell_type": "markdown",
   "id": "9e07e959-45d0-4ffa-adc2-d16d1149b2a5",
   "metadata": {},
   "source": [
    "# 20 Write a Python program to determine if a given number is a perfect square using if-else.\n"
   ]
  },
  {
   "cell_type": "code",
   "execution_count": 23,
   "id": "3d0239aa-9df0-4416-8e97-56d555323447",
   "metadata": {},
   "outputs": [
    {
     "name": "stdin",
     "output_type": "stream",
     "text": [
      "enter a number 2\n"
     ]
    },
    {
     "name": "stdout",
     "output_type": "stream",
     "text": [
      "2  is not a perfect square\n"
     ]
    }
   ],
   "source": [
    "def perfect_square(number):\n",
    "    if (number**0.5)**2  == number:\n",
    "        print (number ,\"is a perfect squre \")\n",
    "    else :\n",
    "        print (number,\"is not a perfect square\")\n",
    "num = int(input(\"enter a number\"))\n",
    "perfect_square(num)"
   ]
  },
  {
   "cell_type": "markdown",
   "id": "622ac78f-2b1e-44c6-9076-f8eb0adbf36e",
   "metadata": {},
   "source": [
    "# 21 Explain the purpose of the \"continue\" and \"break\" statements within if-else loops.\n"
   ]
  },
  {
   "cell_type": "code",
   "execution_count": 25,
   "id": "f7a5edd5-5bc5-4057-bf64-3de631d64daf",
   "metadata": {},
   "outputs": [
    {
     "name": "stdout",
     "output_type": "stream",
     "text": [
      "Example using 'continue':\n",
      "Current value: 1\n",
      "Current value: 2\n",
      "Current value: 4\n",
      "Current value: 5\n",
      "Loop completed without encountering a break statement.\n",
      "\n",
      "Example using 'break':\n",
      "Current value: 1\n",
      "Current value: 2\n"
     ]
    }
   ],
   "source": [
    "# Example using continue\n",
    "print(\"Example using 'continue':\")\n",
    "for i in range(1, 6):\n",
    "    if i == 3:\n",
    "        continue  # Skip the rest of the loop for i=3\n",
    "        # continue will skip that given condition and print all rest all the part\n",
    "    print(f\"Current value: {i}\")\n",
    "else:\n",
    "    print(\"Loop completed without encountering a break statement.\\n\")\n",
    "\n",
    "# Example using break\n",
    "print(\"Example using 'break':\")\n",
    "for i in range(1, 6):\n",
    "    if i == 3:\n",
    "        break  # Exit the loop when i=3\n",
    "        # break will terminate the statement where the condition satisfied \n",
    "    print(f\"Current value: {i}\")\n",
    "else:\n",
    "    print(\"Loop completed without encountering a break statement.\")\n"
   ]
  },
  {
   "cell_type": "markdown",
   "id": "94e35bf6-dafa-472f-824d-7b8be48ef0c1",
   "metadata": {},
   "source": [
    "# 22 Create a Python program that calculates the BMI (Body Mass Index) of a person based on their weight and height using if-else.\n"
   ]
  },
  {
   "cell_type": "code",
   "execution_count": 2,
   "id": "e827f376-43ab-457d-b03f-3f5f8e4edcf8",
   "metadata": {},
   "outputs": [
    {
     "name": "stdin",
     "output_type": "stream",
     "text": [
      "Enter your weight in kg:  12\n",
      "Enter your height in meters:  12\n"
     ]
    },
    {
     "name": "stdout",
     "output_type": "stream",
     "text": [
      "Your body mass index is: 0.08333333333333333\n"
     ]
    }
   ],
   "source": [
    "def bodyMassIndex(weight, height):\n",
    "    height_squared = height ** 2\n",
    "\n",
    "    if height_squared <= 0 or weight <= 0:\n",
    "        print(\"Enter valid values for height and weight.\")\n",
    "        return -1\n",
    "    else:\n",
    "        bmi = weight / height_squared\n",
    "        return bmi\n",
    "\n",
    "weight = float(input(\"Enter your weight in kg: \"))\n",
    "height = float(input(\"Enter your height in meters: \"))\n",
    "\n",
    "bmi_result = bodyMassIndex(weight, height)\n",
    "\n",
    "if bmi_result != -1:\n",
    "    print(\"Your body mass index is:\", bmi_result)\n"
   ]
  },
  {
   "cell_type": "markdown",
   "id": "56f8b80d-431c-45ca-9892-4663cacc3d5c",
   "metadata": {},
   "source": [
    "# 23 How can you use the \"filter()\" function with if-else statements to filter elements from a list?\n"
   ]
  },
  {
   "cell_type": "code",
   "execution_count": 11,
   "id": "b3fdc9a0-ab7b-4bfa-80c6-685f6bf7b9b9",
   "metadata": {},
   "outputs": [
    {
     "name": "stdout",
     "output_type": "stream",
     "text": [
      "[2, 4, 6, 8, 10]\n"
     ]
    }
   ],
   "source": [
    "def filter_even_odd(number):\n",
    "    if number%2 == 0:\n",
    "        return True \n",
    "    else:\n",
    "        return False\n",
    "    \n",
    "numbers = [1, 2, 3, 4, 5, 6, 7, 8, 9, 10]\n",
    "filter_number = filter(filter_even_odd, numbers)\n",
    "result = list(filter_number)\n",
    "print(result)"
   ]
  },
  {
   "cell_type": "markdown",
   "id": "30cdb8de-ef77-4188-b463-81003199c458",
   "metadata": {},
   "source": [
    "# 24 Write a Python program to determine if a given number is prime or not using if-else.\n"
   ]
  },
  {
   "cell_type": "code",
   "execution_count": 1,
   "id": "510839e1-b2d8-45f5-8e39-963eb917a078",
   "metadata": {},
   "outputs": [
    {
     "name": "stdin",
     "output_type": "stream",
     "text": [
      "Enter a number:  12\n"
     ]
    },
    {
     "name": "stdout",
     "output_type": "stream",
     "text": [
      "12 is not prime number \n"
     ]
    }
   ],
   "source": [
    "def check_prime(num):\n",
    "    if number <2 :\n",
    "        return False \n",
    "    for i in range(2, int(num**0.5) + 1):\n",
    "        if number % i == 0:\n",
    "            return False\n",
    "    return True\n",
    "number = int(input(\"Enter a number: \"))\n",
    "if check_prime(number):\n",
    "    print (number,\"is prime number \")\n",
    "else :\n",
    "    print(number ,\"is not prime number \")"
   ]
  },
  {
   "cell_type": "markdown",
   "id": "21e4ab6e-6384-490e-bcc9-a3d47f032c86",
   "metadata": {},
   "source": [
    "# MAP\n",
    "# 1 Explain the purpose of the `map()` function in Python and provide an example of how it can be used to apply a function to each element of an iterable"
   ]
  },
  {
   "cell_type": "code",
   "execution_count": 7,
   "id": "b8a101cd-4c10-4e84-9df7-888468297d6c",
   "metadata": {},
   "outputs": [
    {
     "name": "stdout",
     "output_type": "stream",
     "text": [
      "[3, 4, 5, 6, 7]\n"
     ]
    }
   ],
   "source": [
    "\n",
    "'''The map() function in Python is used to apply a specified function to each item in an iterable (such as a list, tuple, or string) and returns an iterable of the results'''\n",
    "# example of map function\n",
    "\n",
    "def example(x):\n",
    "    return x + 2\n",
    "\n",
    "numbers = [1, 2, 3, 4, 5]\n",
    "squared_numbers = list(map(example, numbers))#Use map to add 2 in each element in a l\n",
    "print(squared_numbers)\n"
   ]
  },
  {
   "cell_type": "markdown",
   "id": "a088a533-ab8a-40f2-8b22-8635e989ab10",
   "metadata": {},
   "source": [
    "# 2 Write a Python program that uses the `map()` function to square each element of a list of numbers.\n"
   ]
  },
  {
   "cell_type": "code",
   "execution_count": 9,
   "id": "6a96ed66-acae-47d2-b1d1-5a9e9964a22b",
   "metadata": {},
   "outputs": [
    {
     "name": "stdout",
     "output_type": "stream",
     "text": [
      "[1, 4, 9, 16, 25]\n"
     ]
    }
   ],
   "source": [
    "def square(x):\n",
    "    return x ** 2\n",
    "\n",
    "numbers = [1, 2, 3, 4, 5]\n",
    "squared_numbers = list(map(square, numbers))#Use map to apply the square function to each element in the list\n",
    "print(squared_numbers)"
   ]
  },
  {
   "cell_type": "markdown",
   "id": "c54777f5-3299-4ff8-9606-40756599c492",
   "metadata": {},
   "source": [
    "## 3 How does the `map()` function differ from a list comprehension in Python, and when would you choose one over the other?"
   ]
  },
  {
   "cell_type": "markdown",
   "id": "ad2ae21d-535d-401f-9492-6858c08defec",
   "metadata": {},
   "source": [
    "\n",
    "'result = map(function, iterable, ...)'\n",
    "#map() returns an iterable, so you might need to convert it to a list or another data type to get the final result.\n",
    "\n",
    "\n",
    "'result = [expression for item in iterable]'\n",
    "#List comprehensions directly produce a list.\n",
    "\n",
    "##When to Choose One Over the Other:\n",
    "'''Function Application:\n",
    "\n",
    "1.If you have an existing function that you want to apply to each element of an iterable, map() can be a good choice.\n",
    "\n",
    "2.If the transformation is simple and can be expressed as an expression, a list comprehension might be more concise.'''"
   ]
  },
  {
   "cell_type": "markdown",
   "id": "1891971d-7b12-4a12-b73a-308dedce7dad",
   "metadata": {},
   "source": [
    "# 4 Create a Python program that uses the `map()` function to convert a list of names to uppercase.\n"
   ]
  },
  {
   "cell_type": "code",
   "execution_count": 13,
   "id": "47b7e59c-cc32-429e-8c56-51de1d763926",
   "metadata": {},
   "outputs": [
    {
     "name": "stdout",
     "output_type": "stream",
     "text": [
      "['HELLO', 'PWSKILL', 'DATASCIENCE']\n"
     ]
    }
   ],
   "source": [
    "def convert_in_uppercase(l):\n",
    "    new_list = l.upper() # converting the element in upper case\n",
    "    return new_list\n",
    "l =['hello', 'pwskill', 'datascience']\n",
    "result = list(map(convert_in_uppercase,l))\n",
    "print(result)"
   ]
  },
  {
   "cell_type": "markdown",
   "id": "3d6e0f17-9ba0-434d-b5ea-7521d28da730",
   "metadata": {},
   "source": [
    "# 5 Write a Python program that uses the `map()` function to calculate the length of each word in a list of strings.\n"
   ]
  },
  {
   "cell_type": "code",
   "execution_count": 23,
   "id": "20aa0a09-8711-46a4-963e-e148b2db8ffb",
   "metadata": {},
   "outputs": [
    {
     "name": "stdout",
     "output_type": "stream",
     "text": [
      "The length of each word in list are  [5, 7, 11]\n"
     ]
    }
   ],
   "source": [
    "def calculate_word_len(l):\n",
    "    for i in l:\n",
    "        l = len(l)\n",
    "        return l\n",
    "l =['hello', 'pwskill', 'datascience']\n",
    "result = list(map(calculate_word_len,l))\n",
    "print(\"The length of each word in list are \",result)"
   ]
  },
  {
   "cell_type": "markdown",
   "id": "5546b076-ca2c-4e56-af38-18a8f89deb69",
   "metadata": {},
   "source": [
    "# 6 How can you use the `map()` function to apply a custom function to elements of multiple lists simultaneously in Python?\n"
   ]
  },
  {
   "cell_type": "code",
   "execution_count": 26,
   "id": "d5d8d202-6946-4e00-8d71-0922f83cda4e",
   "metadata": {},
   "outputs": [
    {
     "name": "stdout",
     "output_type": "stream",
     "text": [
      "the sum of both list is  [5, 7, 9]\n"
     ]
    }
   ],
   "source": [
    "def my_function(a, b):\n",
    "    return a + b\n",
    "\n",
    "list1 = [1, 2, 3]\n",
    "list2 = [4, 5, 6]\n",
    "\n",
    "result = list(map(my_function, list1, list2))\n",
    "\n",
    "print(\"the sum of both list is \",result)\n"
   ]
  },
  {
   "cell_type": "markdown",
   "id": "7bb08a98-b547-4880-a5db-82ad49973878",
   "metadata": {},
   "source": [
    "# 7 Create a Python program that uses `map()` to convert a list of temperatures from Celsius to Fahrenheit.\n"
   ]
  },
  {
   "cell_type": "code",
   "execution_count": 30,
   "id": "5dfe65bc-6124-463c-a97a-531ca375fe0b",
   "metadata": {},
   "outputs": [
    {
     "name": "stdout",
     "output_type": "stream",
     "text": [
      "The temperature in Fahrenheit is : [140.0, 158.0, 176.0, 194.0, 212.0]\n"
     ]
    }
   ],
   "source": [
    "def convert(temp):\n",
    "    temp = (9/5)*temp +32\n",
    "    return temp\n",
    "temp = [60,70,80,90,100]\n",
    "result = list(map(convert,temp))\n",
    "print(\"The temperature in Fahrenheit is :\",result)"
   ]
  },
  {
   "cell_type": "markdown",
   "id": "564bef29-5073-4f3e-9aa1-bdde3cea2ff9",
   "metadata": {},
   "source": [
    "# 8 Write a Python program that uses the `map()` function to round each element of a list of floating-point numbers to the nearest integer.\n"
   ]
  },
  {
   "cell_type": "code",
   "execution_count": 52,
   "id": "c5a40c09-bf04-424b-82e1-4b6942800be8",
   "metadata": {},
   "outputs": [
    {
     "name": "stdout",
     "output_type": "stream",
     "text": [
      "The nearest integer list of floating point number are [10, 36, 44, 65, 74]\n"
     ]
    }
   ],
   "source": [
    "# Define a list of floatind point number\n",
    "word_list = [10.343,35.945,43.954,65.4322,74.397]\n",
    "\n",
    "# Use map to apply len function to each word in the list\n",
    "word_lengths = map(lambda x: round(x,None), word_list)\n",
    "\n",
    "print(\"The nearest integer list of floating point number are\",list(word_lengths))\n"
   ]
  },
  {
   "cell_type": "markdown",
   "id": "8da2c14d-2baf-4648-a39f-9d45cf1fdb3b",
   "metadata": {},
   "source": [
    "# REDUCE"
   ]
  },
  {
   "cell_type": "markdown",
   "id": "f43bed2a-5bb2-4843-ad5d-02a9f7349ef3",
   "metadata": {
    "tags": []
   },
   "source": [
    "# 1 What is the `reduce()` function in Python, and what module should you import to use it? Provide an example of its basic usage."
   ]
  },
  {
   "cell_type": "markdown",
   "id": "84369dd0-8a3a-44fb-b664-3034f93fa71b",
   "metadata": {},
   "source": [
    "Reduce function is similar to the map function it operates on a list (or any iterable), applies a function to its elements, and 'reduces' them to a single output \n",
    "The funcstool module which must be imported before calling the reduce function  \n",
    "\n",
    "Example\n"
   ]
  },
  {
   "cell_type": "code",
   "execution_count": 4,
   "id": "1b9dc373-977f-403e-8785-bc4d0bc98f0a",
   "metadata": {},
   "outputs": [
    {
     "name": "stdout",
     "output_type": "stream",
     "text": [
      "15\n"
     ]
    }
   ],
   "source": [
    "#example for the reduce function\n",
    "from functools import reduce\n",
    "\n",
    "list1 = [1, 2, 3, 4, 5]\n",
    "sumOfAll = reduce(lambda x, y: x + y, list1)\n",
    "print(sumOfAll)"
   ]
  },
  {
   "cell_type": "markdown",
   "id": "fa08ced7-58fe-4dbf-b636-59ce55667c59",
   "metadata": {
    "tags": []
   },
   "source": [
    "# 2 Write a Python program that uses the `reduce()` function to find the product of all elements in a list.\n"
   ]
  },
  {
   "cell_type": "code",
   "execution_count": 10,
   "id": "34242b45-8cdc-41b2-b220-39a37ddf897f",
   "metadata": {},
   "outputs": [
    {
     "name": "stdout",
     "output_type": "stream",
     "text": [
      "120\n"
     ]
    }
   ],
   "source": [
    "from functools import reduce \n",
    "def productOfele(a,b):\n",
    "    return a*b\n",
    "number = [1, 2, 3, 4, 5]\n",
    "result =reduce(productOfele,number)\n",
    "print (result)"
   ]
  },
  {
   "cell_type": "markdown",
   "id": "5e644706-0b87-48f2-bb1f-8c4b36ec425f",
   "metadata": {},
   "source": [
    "# 3 Create a Python program that uses `reduce()` to find the maximum element in a list of numbers."
   ]
  },
  {
   "cell_type": "code",
   "execution_count": 14,
   "id": "1adce235-8212-4e36-92d0-5b6b26fd5d16",
   "metadata": {},
   "outputs": [
    {
     "data": {
      "text/plain": [
       "56"
      ]
     },
     "execution_count": 14,
     "metadata": {},
     "output_type": "execute_result"
    }
   ],
   "source": [
    "from functools import reduce\n",
    "l = [11,23,4,54,23,56]\n",
    "reduce(lambda x,y : x if x>y else y, l)\n"
   ]
  },
  {
   "cell_type": "markdown",
   "id": "cae18ea3-6918-49b5-a34c-4aa037996d92",
   "metadata": {},
   "source": [
    "# 4 How can you use the `reduce()` function to concatenate a list of strings into a single string?\n"
   ]
  },
  {
   "cell_type": "code",
   "execution_count": 18,
   "id": "44fa0ca3-92aa-4353-87df-63dfff6a4933",
   "metadata": {},
   "outputs": [
    {
     "data": {
      "text/plain": [
       "'My Name Is Azman'"
      ]
     },
     "execution_count": 18,
     "metadata": {},
     "output_type": "execute_result"
    }
   ],
   "source": [
    "string = ['My',' ','Name',' ','Is',' ','Azman']\n",
    "reduce(lambda x,y : x+y,string)"
   ]
  },
  {
   "cell_type": "markdown",
   "id": "c1e217aa-aa03-44cf-b514-e4b76b3c18dc",
   "metadata": {},
   "source": [
    "# 5 Write a Python program that calculates the factorial of a number using the `reduce()` function."
   ]
  },
  {
   "cell_type": "code",
   "execution_count": 22,
   "id": "7504a718-8b2d-4b30-b266-447d576e338b",
   "metadata": {},
   "outputs": [
    {
     "name": "stdin",
     "output_type": "stream",
     "text": [
      "Enter a number 6\n"
     ]
    },
    {
     "data": {
      "text/plain": [
       "720"
      ]
     },
     "execution_count": 22,
     "metadata": {},
     "output_type": "execute_result"
    }
   ],
   "source": [
    "number = int(input(\"Enter a number\"))\n",
    "reduce(lambda x,y : x*y ,range(1,number+1),1)"
   ]
  },
  {
   "cell_type": "markdown",
   "id": "72181055-012c-4f69-872f-5f557b09344e",
   "metadata": {},
   "source": [
    "# 6 Create a Python program that uses `reduce()` to find the GCD (Greatest Common Divisor) of a list of numbers.\n"
   ]
  },
  {
   "cell_type": "code",
   "execution_count": 26,
   "id": "b20b462a-cbae-4e9a-b228-30df8b6bd1ff",
   "metadata": {},
   "outputs": [
    {
     "name": "stdin",
     "output_type": "stream",
     "text": [
      "Enter 1 number 12\n",
      "Enter 2 number 15\n"
     ]
    },
    {
     "data": {
      "text/plain": [
       "3"
      ]
     },
     "execution_count": 26,
     "metadata": {},
     "output_type": "execute_result"
    }
   ],
   "source": [
    "num1 = int(input(\"Enter 1 number\"))\n",
    "num2 = int(input(\"Enter 2 number\"))\n",
    "reduce(lambda x,y : x if num1%x==0 and num2%x ==0 else y,range(min(num1 ,num2),0,-1))"
   ]
  },
  {
   "cell_type": "markdown",
   "id": "0fe8c6dc-fe4f-4e0b-9ef6-47851f80c9ed",
   "metadata": {},
   "source": [
    "# 7 Write a Python program that uses the `reduce()` function to find the sum of the digits of a given number.\n"
   ]
  },
  {
   "cell_type": "code",
   "execution_count": 32,
   "id": "006886c6-947b-4c7b-9d98-b8797eadc4ae",
   "metadata": {},
   "outputs": [
    {
     "name": "stdin",
     "output_type": "stream",
     "text": [
      "Enter a number 123\n"
     ]
    },
    {
     "data": {
      "text/plain": [
       "6"
      ]
     },
     "execution_count": 32,
     "metadata": {},
     "output_type": "execute_result"
    }
   ],
   "source": [
    "number = int(input(\"Enter a number\"))\n",
    "reduce(lambda x, y :x+y , [int(digit) for digit in str(number)])"
   ]
  },
  {
   "cell_type": "markdown",
   "id": "fc08d441-2f9e-4484-9906-a78ea113dd21",
   "metadata": {},
   "source": [
    "# filter "
   ]
  },
  {
   "cell_type": "markdown",
   "id": "7bcd4373-0743-45c9-8cc0-036d5e145bfb",
   "metadata": {},
   "source": [
    "# 1 Explain the purpose of the `filter()` function in Python and provide an example of how it can be used to filter elements from an iterable"
   ]
  },
  {
   "cell_type": "markdown",
   "id": "9b22d823-28b5-4fb0-a550-265ee6b87a48",
   "metadata": {},
   "source": [
    "The purpose of filter () function is to filter out the required element from an iterable list,tuple, set "
   ]
  },
  {
   "cell_type": "code",
   "execution_count": 1,
   "id": "dd6564d7-be00-4f11-92b3-7ab2dc56082d",
   "metadata": {},
   "outputs": [
    {
     "name": "stdout",
     "output_type": "stream",
     "text": [
      "[2, 4, 6, 8, 10]\n"
     ]
    }
   ],
   "source": [
    "#example \n",
    "# Define a list of numbers\n",
    "numbers = [1, 2, 3, 4, 5, 6, 7, 8, 9, 10]\n",
    "\n",
    "# Define a filtering function that returns True for even numbers\n",
    "def is_even(x):\n",
    "    return x % 2 == 0\n",
    "\n",
    "# Use filter() to get a list of even numbers\n",
    "even_numbers = list(filter(is_even, numbers))\n",
    "\n",
    "# Print the result\n",
    "print(even_numbers)\n"
   ]
  },
  {
   "cell_type": "markdown",
   "id": "0aaacd96-c023-44cc-beb5-ad3d061cc1ef",
   "metadata": {},
   "source": [
    "# 2 Write a Python program that uses the `filter()` function to select even numbers from a list of integers.\n"
   ]
  },
  {
   "cell_type": "code",
   "execution_count": 2,
   "id": "6fbf501b-0b68-4276-b2ad-3b564005c717",
   "metadata": {},
   "outputs": [
    {
     "name": "stdout",
     "output_type": "stream",
     "text": [
      "[2, 4, 6, 8, 10]\n"
     ]
    }
   ],
   "source": [
    "def is_even(x):\n",
    "    return x % 2 == 0\n",
    "\n",
    "# Use filter() to get a list of even numbers\n",
    "even_numbers = list(filter(is_even, numbers))\n",
    "\n",
    "# Print the result\n",
    "print(even_numbers)\n"
   ]
  },
  {
   "cell_type": "markdown",
   "id": "21d251bb-6fbf-4d9f-a321-ffc776b1b82c",
   "metadata": {},
   "source": [
    "# 3 Create a Python program that uses the `filter()` function to select names that start with a specific letter from a list of strings.\n"
   ]
  },
  {
   "cell_type": "code",
   "execution_count": 14,
   "id": "a0b74682-fcf6-4c80-bdc4-9ff32c727adb",
   "metadata": {},
   "outputs": [
    {
     "name": "stdout",
     "output_type": "stream",
     "text": [
      "['mango', 'monkey', 'monday']\n"
     ]
    }
   ],
   "source": [
    "l = ['mango', 'monkey', 'monday', 'banana']\n",
    "result = list(filter(lambda x:x if  x[0] == 'm' else False,l))\n",
    "print(result)"
   ]
  },
  {
   "cell_type": "markdown",
   "id": "fba6f5a7-a7fe-4063-a557-c95db8395a5e",
   "metadata": {},
   "source": [
    "# 4 Write a Python program that uses the `filter()` function to select prime numbers from a list of integers."
   ]
  },
  {
   "cell_type": "code",
   "execution_count": 15,
   "id": "0d90452e-e332-49d9-af1d-8547c1e79070",
   "metadata": {},
   "outputs": [
    {
     "name": "stdout",
     "output_type": "stream",
     "text": [
      "[2, 3, 5, 7, 11, 13, 17, 19, 23, 29, 31, 37, 41, 43, 47, 53, 59, 61, 67, 71, 73, 79, 83, 89, 97]\n"
     ]
    }
   ],
   "source": [
    "def prime_num(number):\n",
    "    if number <2:\n",
    "        return False\n",
    "    for i in range (2,int(number**0.5+1)):\n",
    "        if number %i ==0 :\n",
    "            return False\n",
    "    return True \n",
    "number =list(range(0,101))\n",
    "result = list(filter(prime_num, number))\n",
    "print(result)"
   ]
  },
  {
   "cell_type": "markdown",
   "id": "e434d097-6c17-460d-a2ad-7e1d0ef41372",
   "metadata": {},
   "source": [
    "# 5 How can you use the `filter()` function to remove None values from a list in Python?\n"
   ]
  },
  {
   "cell_type": "code",
   "execution_count": 24,
   "id": "3bf16091-2c8b-43bc-8ba1-7c85a3b5d236",
   "metadata": {},
   "outputs": [
    {
     "name": "stdout",
     "output_type": "stream",
     "text": [
      "[2, 3, 6, 7, 10]\n"
     ]
    }
   ],
   "source": [
    "l1 = [2,3,None,6,7,None,10]\n",
    "result = list(filter(lambda x: x !=None,l1))\n",
    "print(result)"
   ]
  },
  {
   "cell_type": "markdown",
   "id": "338ca1ae-d0c7-4310-8543-4ffc522b5d30",
   "metadata": {},
   "source": [
    "# 6 Create a Python program that uses `filter()` to select words longer than a certain length from a list of strings.\n"
   ]
  },
  {
   "cell_type": "code",
   "execution_count": 26,
   "id": "3ec6a1de-892a-4edc-8c02-d52a16349e81",
   "metadata": {},
   "outputs": [
    {
     "name": "stdout",
     "output_type": "stream",
     "text": [
      "['banana', 'grapes', 'watermelon']\n"
     ]
    }
   ],
   "source": [
    "def list_length(n):\n",
    "    if len(n) > 5:\n",
    "        return n\n",
    "l = ['mango', 'banana', 'grapes', 'apple', 'watermelon','melon']\n",
    "result = list(filter(list_length, l))\n",
    "print(result)"
   ]
  },
  {
   "cell_type": "markdown",
   "id": "a50ea127-0687-4ae3-a6fc-cec89fa35a24",
   "metadata": {},
   "source": [
    "# 7 Write a Python program that uses the `filter()` function to select elements greater than a specified threshold from a list of values.\n"
   ]
  },
  {
   "cell_type": "code",
   "execution_count": 34,
   "id": "010d355e-cb50-48ed-b159-bf697650c47a",
   "metadata": {},
   "outputs": [
    {
     "name": "stdout",
     "output_type": "stream",
     "text": [
      "The value that are greater than threshold are : [10, 15, 20]\n"
     ]
    }
   ],
   "source": [
    "def filter_greater_than_threshold(value, threshold =8):\n",
    "    return value > threshold\n",
    "\n",
    "values = [10, 5, 8, 15, 3, 20, 7]\n",
    "\n",
    "# Use filter() to select elements greater than the threshold\n",
    "result  = list(filter(filter_greater_than_threshold, values))\n",
    "\n",
    "# Print the result\n",
    "print(\"The value that are greater than threshold are :\",result)"
   ]
  },
  {
   "cell_type": "markdown",
   "id": "45dc398e-a786-4de7-b0ab-ddc55708a98f",
   "metadata": {},
   "source": [
    "# Recursion:-\n"
   ]
  },
  {
   "cell_type": "markdown",
   "id": "54920a9d-bc13-4c46-9b42-54ba6f30b623",
   "metadata": {},
   "source": [
    "# 1 Explain the concept of recursion in Python. How does it differ from iteration?\n"
   ]
  },
  {
   "cell_type": "markdown",
   "id": "b16e6dc9-4f57-4c36-b88c-574ade272fb9",
   "metadata": {},
   "source": [
    "Recursion is the function calling  itself in its own defination.\n",
    "\n",
    "It is different from iteration because iteration involve repetedly executing a set of statement or instruction using loop"
   ]
  },
  {
   "cell_type": "code",
   "execution_count": 35,
   "id": "8bbd9d97-792e-4862-800d-1370f3a840a2",
   "metadata": {},
   "outputs": [
    {
     "name": "stdout",
     "output_type": "stream",
     "text": [
      "120\n"
     ]
    }
   ],
   "source": [
    "# example \n",
    "def factorial(n):\n",
    "    # Base case\n",
    "    if n == 0 or n == 1:\n",
    "        return 1\n",
    "    # Recursive case\n",
    "    else:\n",
    "        return n * factorial(n - 1)\n",
    "result = factorial(5)\n",
    "print(result)\n"
   ]
  },
  {
   "cell_type": "markdown",
   "id": "d04898e0-85f0-4621-802c-5861729cff9c",
   "metadata": {},
   "source": [
    "# 2 Write a Python program to calculate the factorial of a number using recursion.\n"
   ]
  },
  {
   "cell_type": "code",
   "execution_count": 36,
   "id": "e82acca9-fc19-44d7-a300-f187080319a2",
   "metadata": {},
   "outputs": [
    {
     "name": "stdout",
     "output_type": "stream",
     "text": [
      "120\n"
     ]
    }
   ],
   "source": [
    "def factorial(n):\n",
    "    # Base case\n",
    "    if n == 0 or n == 1:\n",
    "        return 1\n",
    "    # Recursive case\n",
    "    else:\n",
    "        return n * factorial(n - 1)\n",
    "result = factorial(5)\n",
    "print(result)\n"
   ]
  },
  {
   "cell_type": "markdown",
   "id": "e9fb2e72-bffe-47e6-90e9-a03458660c52",
   "metadata": {},
   "source": [
    "# 3 Create a recursive Python function to find the nth Fibonacci number.\n"
   ]
  },
  {
   "cell_type": "code",
   "execution_count": 42,
   "id": "f16dc2b1-96f1-4aab-a7a7-0d4366a49e0c",
   "metadata": {},
   "outputs": [
    {
     "name": "stdout",
     "output_type": "stream",
     "text": [
      "The 8-th Fibonacci number is: 21\n"
     ]
    }
   ],
   "source": [
    "def fibonacci(n):\n",
    "    if n<=1:\n",
    "        return n\n",
    "    else:\n",
    "        return fibonacci(n-1) + fibonacci(n-2)\n",
    "n = 8\n",
    "result = fibonacci(n)\n",
    "print(f\"The {n}-th Fibonacci number is: {result}\")\n",
    "    "
   ]
  },
  {
   "cell_type": "markdown",
   "id": "4c77f895-45a5-4b41-96bc-98308727cbe0",
   "metadata": {},
   "source": [
    "# 4 Write a recursive Python function to calculate the sum of all elements in a list."
   ]
  },
  {
   "cell_type": "code",
   "execution_count": 47,
   "id": "52755e3a-701b-4627-a0ca-fdf376500d79",
   "metadata": {},
   "outputs": [
    {
     "name": "stdout",
     "output_type": "stream",
     "text": [
      "35\n"
     ]
    }
   ],
   "source": [
    "def sum_of_num(lst, index=0):\n",
    "    if not lst:\n",
    "        return 0\n",
    "    else:\n",
    "        return lst[0] + sum_of_num(lst[1:])\n",
    "\n",
    "l = [2, 3, 4, 5, 6, 7, 8]\n",
    "result = sum_of_num(l)\n",
    "print(result)\n"
   ]
  },
  {
   "cell_type": "markdown",
   "id": "1be4377c-58e4-4665-8673-5c2c4b8774b7",
   "metadata": {},
   "source": [
    "# 5 How can you prevent a recursive function from running indefinitely, causing a stack overflow error?"
   ]
  },
  {
   "cell_type": "markdown",
   "id": "ba0f6c26-53ec-4d01-85d3-1ae93fe109ba",
   "metadata": {},
   "source": [
    "To prevent a recursive function from running indefinitely and causing a stack overflow error, you should include a base case in your recursive function. The base case defines a condition under which the recursion stops and the function returns a specific value without making further recursive calls."
   ]
  },
  {
   "cell_type": "markdown",
   "id": "aade6a59-5099-482a-b6ad-d02d0ca1b09d",
   "metadata": {},
   "source": [
    "# 6 Create a recursive Python function to find the greatest common divisor (GCD) of two numbers using the Euclidean algorithm"
   ]
  },
  {
   "cell_type": "code",
   "execution_count": 3,
   "id": "773834d0-e2be-45e0-8c9c-76045b03c27c",
   "metadata": {},
   "outputs": [
    {
     "name": "stdin",
     "output_type": "stream",
     "text": [
      "Enter 1st number  2\n",
      "Enter 2nd number  18\n"
     ]
    },
    {
     "name": "stdout",
     "output_type": "stream",
     "text": [
      "2\n"
     ]
    }
   ],
   "source": [
    "def findGDC(num1,num2):\n",
    "    if num2 ==0:\n",
    "        return num1\n",
    "    else :\n",
    "        return findGDC(num2,num1%num2)\n",
    "num1 = int(input(\"Enter 1st number \"))\n",
    "num2 = int(input(\"Enter 2nd number \"))\n",
    "result = findGDC(num1,num2)\n",
    "print(result)"
   ]
  },
  {
   "cell_type": "markdown",
   "id": "2c5c7ac1-eca8-4ba3-87e4-c389a7cef29b",
   "metadata": {
    "tags": []
   },
   "source": [
    "# 7 Write a recursive Python function to reverse a string."
   ]
  },
  {
   "cell_type": "code",
   "execution_count": 10,
   "id": "16dad864-68d1-4dc1-8aa9-17454db01df9",
   "metadata": {},
   "outputs": [
    {
     "name": "stdout",
     "output_type": "stream",
     "text": [
      "olleH\n"
     ]
    }
   ],
   "source": [
    "def reverse(string):\n",
    "    if len(string) ==0:\n",
    "        return string\n",
    "    else:\n",
    "        return string[-1] + reverse(string[:-1])\n",
    "string = 'Hello'\n",
    "print(reverse(string))"
   ]
  },
  {
   "cell_type": "markdown",
   "id": "9105a0b9-d712-4178-b283-3d7d776aa627",
   "metadata": {},
   "source": [
    "# 8 Create a recursive Python function to calculate the power of a number (x^n).\n"
   ]
  },
  {
   "cell_type": "code",
   "execution_count": 18,
   "id": "9f6cb672-e495-4967-a492-36c211f0a69a",
   "metadata": {},
   "outputs": [
    {
     "name": "stdout",
     "output_type": "stream",
     "text": [
      "16\n"
     ]
    }
   ],
   "source": [
    "def power(x,n):\n",
    "    if n<=0:\n",
    "        return 1\n",
    "    else :\n",
    "        return x*power(x,n-1)\n",
    "n = 2\n",
    "x = 4\n",
    "print (power(x,n))"
   ]
  },
  {
   "cell_type": "markdown",
   "id": "a032528f-850e-468b-849c-df4864b971d0",
   "metadata": {},
   "source": [
    "# 9 Write a recursive Python function to find all permutations of a given string.\n"
   ]
  },
  {
   "cell_type": "code",
   "execution_count": 3,
   "id": "7d9587e3-b145-4561-bdb1-69c4b9ee9c76",
   "metadata": {},
   "outputs": [
    {
     "name": "stdout",
     "output_type": "stream",
     "text": [
      "['abc', 'acb', 'bac', 'bca', 'cab', 'cba']\n"
     ]
    }
   ],
   "source": [
    "def generate_permutations(string):\n",
    "    if len(string) == 1:\n",
    "        return [string]\n",
    "\n",
    "    all_permutations = []\n",
    "    for i in range(len(string)):\n",
    "        current_char = string[i]\n",
    "        remaining_chars = string[:i] + string[i+1:]\n",
    "\n",
    "        for perm in generate_permutations(remaining_chars):\n",
    "            all_permutations.append(current_char + perm)\n",
    "\n",
    "    return all_permutations\n",
    "\n",
    "# Example usage:\n",
    "input_string = \"abc\"\n",
    "result = generate_permutations(input_string)\n",
    "print(result)\n"
   ]
  },
  {
   "cell_type": "markdown",
   "id": "969a4d3c-cb60-4c30-b9b8-75958b3765fb",
   "metadata": {},
   "source": [
    "# 10 Write a recursive Python function to check if a string is a palindrome.\n"
   ]
  },
  {
   "cell_type": "code",
   "execution_count": 20,
   "id": "f22e906c-5cf8-4d1b-8f1f-40dca0bab09b",
   "metadata": {},
   "outputs": [
    {
     "name": "stdin",
     "output_type": "stream",
     "text": [
      "enter the string  hello olleh\n"
     ]
    },
    {
     "name": "stdout",
     "output_type": "stream",
     "text": [
      "palindrome\n"
     ]
    }
   ],
   "source": [
    "def checkpalindrome(string):\n",
    "    string = string.lower()\n",
    "    string = ''.join(c for c in string if c.isalnum())  # Remove non-alphanumeric characters\n",
    "    if len(string) <=1:\n",
    "        return True\n",
    "    else :\n",
    "        return string[0] == string[-1] and  checkpalindrome(string[1:-1])\n",
    "string = input(\"enter the string \")\n",
    "result =  checkpalindrome(string)\n",
    "if result :\n",
    "    print(\"palindrome\")\n",
    "else:\n",
    "    print(\"Not palindrome\")"
   ]
  },
  {
   "cell_type": "markdown",
   "id": "40a8d391-9ddc-4e92-939b-70ae36923c39",
   "metadata": {},
   "source": [
    "# 11 Create a recursive Python function to generate all possible combinations of a list of elements.\n"
   ]
  },
  {
   "cell_type": "code",
   "execution_count": 21,
   "id": "f5e0bcbc-66aa-41e5-9926-88a22d8f2dcc",
   "metadata": {},
   "outputs": [
    {
     "name": "stdout",
     "output_type": "stream",
     "text": [
      "[[], [3], [2], [2, 3], [1], [1, 3], [1, 2], [1, 2, 3]]\n"
     ]
    }
   ],
   "source": [
    "def generate_combinations(elements):\n",
    "    if not elements:\n",
    "        return [[]]\n",
    "\n",
    "    first_element, *rest_of_elements = elements\n",
    "\n",
    "    combinations_without_first = generate_combinations(rest_of_elements)\n",
    "    combinations_with_first = [ [first_element] + combo for combo in combinations_without_first]\n",
    "\n",
    "    return combinations_without_first + combinations_with_first\n",
    "\n",
    "# Example usage:\n",
    "input_elements = [1, 2, 3]\n",
    "result = generate_combinations(input_elements)\n",
    "print(result)\n"
   ]
  },
  {
   "cell_type": "markdown",
   "id": "c8f61677-18cf-49cc-b042-fb15a13204ea",
   "metadata": {
    "tags": []
   },
   "source": [
    "# Basics of Functions:"
   ]
  },
  {
   "cell_type": "markdown",
   "id": "07367f89-1996-4a9c-8e7f-5b03e35800d0",
   "metadata": {},
   "source": [
    "# 1 What is a function in Python, and why is it used?\n",
    " "
   ]
  },
  {
   "cell_type": "markdown",
   "id": "e7593e75-16a6-442c-abea-722521336f5e",
   "metadata": {},
   "source": [
    "A function is a block of code that performs a specific task or set of tasks. Functions are defined using the def keyword, followed by the function name, parameters (if any), and a block of code. \n",
    "\n",
    "Uses of function :-\n",
    "\n",
    "Functions allow you to define a block of code once and reuse it in multiple places.\n",
    "\n",
    "This reduces code duplication, making maintenance and updates more efficient.\n",
    "\n",
    "Functions in Python provide a way to structure code"
   ]
  },
  {
   "cell_type": "markdown",
   "id": "6479902b-132f-4b71-b86e-0c8329869398",
   "metadata": {},
   "source": [
    "# 2 How do you define a function in Python? Provide an example"
   ]
  },
  {
   "cell_type": "markdown",
   "id": "f46ff533-1e8e-424c-8e06-e9e281a0f3b1",
   "metadata": {},
   "source": [
    "To define a function we have to use a keyword def and then named the fuction after the def keyword and then we have to give parameters and end with the colon\n",
    "for example :"
   ]
  },
  {
   "cell_type": "code",
   "execution_count": 25,
   "id": "9f691f17-4d49-46e7-a44c-ef8dab93dc9c",
   "metadata": {},
   "outputs": [
    {
     "name": "stdout",
     "output_type": "stream",
     "text": [
      "Hello\n"
     ]
    }
   ],
   "source": [
    "def example(parameter):\n",
    "    return parameter\n",
    "p = 'Hello'\n",
    "result = example(p)\n",
    "print(result)\n",
    "    "
   ]
  },
  {
   "cell_type": "markdown",
   "id": "5af45fa1-8049-457b-8695-96ef3c497908",
   "metadata": {},
   "source": [
    "# 3 Explain the difference between a function definition and a function call.\n"
   ]
  },
  {
   "cell_type": "raw",
   "id": "5c2694a2-9ab5-4809-83b1-010911fd223a",
   "metadata": {},
   "source": [
    "Function definition is the defining the function using def keyword and function name and paramters \n",
    "for example :\n",
    "    def example(parameter):\n",
    "    return parameter\n",
    "Function call is the execution of the function in your code with specific values and argument\n",
    "example:-\n",
    "    result = example(p)"
   ]
  },
  {
   "cell_type": "markdown",
   "id": "72a30055-fcaf-4cb1-87a8-54d8ff5d62f5",
   "metadata": {},
   "source": [
    "# 4 Write a Python program that defines a function to calculate the sum of two numbers and then calls the function."
   ]
  },
  {
   "cell_type": "code",
   "execution_count": 27,
   "id": "c6ad617e-2686-4e23-9e5e-0e877ccf095a",
   "metadata": {},
   "outputs": [
    {
     "name": "stdout",
     "output_type": "stream",
     "text": [
      "The sum of 12 + 18 = 30\n"
     ]
    }
   ],
   "source": [
    "def sumOfnum(a,b):\n",
    "    return a+b\n",
    "a = 12\n",
    "b = 18\n",
    "total = sumOfnum(a,b)\n",
    "print(f\"The sum of {a} + {b} = {total}\")"
   ]
  },
  {
   "cell_type": "markdown",
   "id": "4fb9e58e-6967-4d33-bb3d-3bb65b81f4c4",
   "metadata": {},
   "source": [
    "# 5 What is a function signature, and what information does it typically include?\n"
   ]
  },
  {
   "cell_type": "markdown",
   "id": "fa934b02-e330-4e73-ba7b-a5cd3b29b814",
   "metadata": {},
   "source": [
    "A function signature is the declaration of a function in a program. It's also known as a type signature or method signature. A function signature defines the input and output of a function or method. \n",
    "\n",
    "The signature indicates the Function names and types of the input arguments, and (with type annotations) the type of the returned result(s) of a function or method."
   ]
  },
  {
   "cell_type": "markdown",
   "id": "b8ce7f91-8bf3-4676-a60d-45e1c389ccd9",
   "metadata": {},
   "source": [
    "# 6 Create a Python function that takes two arguments and returns their product.\n",
    "\n"
   ]
  },
  {
   "cell_type": "code",
   "execution_count": 29,
   "id": "0895b0ec-42e4-4088-9ac2-5e2d45faee81",
   "metadata": {},
   "outputs": [
    {
     "name": "stdout",
     "output_type": "stream",
     "text": [
      "The product of 10 and 5 is 50\n"
     ]
    }
   ],
   "source": [
    "def product(a,b):\n",
    "    return a*b\n",
    "a = 10\n",
    "b = 5\n",
    "result = product(a,b)\n",
    "print(f\"The product of {a} and {b} is {result}\")"
   ]
  },
  {
   "cell_type": "markdown",
   "id": "df7fff66-f97f-48c8-84c3-7ac4f0ca922a",
   "metadata": {},
   "source": [
    "# Function Parameters and Arguments:"
   ]
  },
  {
   "cell_type": "markdown",
   "id": "6462e225-af0e-48a1-bec1-9d5a72bb6ca4",
   "metadata": {},
   "source": [
    "# Explain the concepts of formal parameters and actual arguments in Python functions.\n",
    "\n"
   ]
  },
  {
   "cell_type": "raw",
   "id": "c20662a4-a421-4006-b1b5-68c0f366ba73",
   "metadata": {},
   "source": [
    "Formal parameters are the placeholders or variables that are used in the function definition to represent values that will be supplied as arguments when the function is called.\n",
    "for example :-\n",
    "\n",
    "def  add_num(x,y):\n",
    "    result = x+y\n",
    "    return result\n",
    "\n",
    "Actual arguments are the real values or expressions passed to a function when it is called. These values are assigned to the formal parameters inside the function.\n",
    "for eample :-\n",
    "resut = add_num(5,6)"
   ]
  },
  {
   "cell_type": "markdown",
   "id": "4543c6d7-6de0-4ad4-a6bb-3aff24180068",
   "metadata": {},
   "source": [
    "# 2 Write a Python program that defines a function with default argument values.\n"
   ]
  },
  {
   "cell_type": "code",
   "execution_count": 5,
   "id": "ab9325bd-5331-42bf-9bbe-ada848cdc2fe",
   "metadata": {},
   "outputs": [
    {
     "name": "stdout",
     "output_type": "stream",
     "text": [
      "Hello, Azman!\n",
      "Hi, Sudanshu!\n"
     ]
    }
   ],
   "source": [
    "def greet(name, greeting=\"Hello\"):\n",
    "   \n",
    "    print(f\"{greeting}, {name}!\")\n",
    "\n",
    "# Calling the function without providing the 'greeting' argument (uses the default)\n",
    "greet(\"Azman\")\n",
    "\n",
    "# Calling the function with a custom 'greeting' argument\n",
    "greet(\"Sudanshu\", \"Hi\")\n"
   ]
  },
  {
   "cell_type": "markdown",
   "id": "cf6ccae6-e198-44e9-95a8-c362f79102bd",
   "metadata": {},
   "source": [
    "# 3 How do you use keyword arguments in Python function calls? Provide an example.\n"
   ]
  },
  {
   "cell_type": "markdown",
   "id": "3b6711f9-dd76-405a-b56a-314b9191e070",
   "metadata": {},
   "source": [
    "we can use keyword arguments in function calls by explicitly specifying the parameter names along with their corresponding values. \n",
    "\n",
    "for example:-"
   ]
  },
  {
   "cell_type": "code",
   "execution_count": 6,
   "id": "5d336b94-b428-42a3-97f0-d4ecc65a869b",
   "metadata": {},
   "outputs": [
    {
     "name": "stdout",
     "output_type": "stream",
     "text": [
      "Name: Azman, Age: 23, City: Allahabad\n",
      "Name: Arshiya, Age: 30, City: Lucknow\n"
     ]
    }
   ],
   "source": [
    "def print_person_info(name, age, city):\n",
    "    \n",
    "    print(f\"Name: {name}, Age: {age}, City: {city}\")\n",
    "\n",
    "# Using keyword arguments to call the function\n",
    "print_person_info(name=\"Azman\", age=23, city=\"Allahabad\")\n",
    "print_person_info(city=\"Lucknow\", age=30, name=\"Arshiya\")\n"
   ]
  },
  {
   "cell_type": "markdown",
   "id": "ce87aed1-6316-4025-9a28-8aa9dec9ffa9",
   "metadata": {},
   "source": [
    "# 4 Create a Python function that accepts a variable number of arguments and calculates their sum.\n"
   ]
  },
  {
   "cell_type": "code",
   "execution_count": 7,
   "id": "da7def07-7ea5-406e-88f1-bd809ad11dfc",
   "metadata": {},
   "outputs": [
    {
     "name": "stdout",
     "output_type": "stream",
     "text": [
      "21\n"
     ]
    }
   ],
   "source": [
    "def sumOf(*args):\n",
    "    return sum(args)\n",
    "result = sumOf(1,2,3,4,5,6)\n",
    "print (result)\n",
    "    "
   ]
  },
  {
   "cell_type": "markdown",
   "id": "18cdc926-9bbc-4d3e-8c2e-a39660e9fdb2",
   "metadata": {},
   "source": [
    "# 5 What is the purpose of the `*args` and `**kwargs` syntax in function parameter lists"
   ]
  },
  {
   "cell_type": "markdown",
   "id": "fff46dba-1c2f-47b3-9fd3-9ce810030b35",
   "metadata": {},
   "source": [
    "The *args and **kwargs syntax in function parameter lists in Python allow you to work with a variable number of arguments. \n",
    "\n",
    "The *args syntax allows a function to accept a variable number of positional arguments.\n",
    "It collects these arguments into a tuple within the function\n",
    "\n",
    "The **kwargs syntax allows a function to accept a variable number of keyvalue arguments.\n",
    "It collects these arguments into a dictionary within the function.\n",
    "\n"
   ]
  },
  {
   "cell_type": "markdown",
   "id": "59e626c6-7ba2-4979-8c8e-f60bf89317ca",
   "metadata": {},
   "source": [
    "# Return Values and Scoping:\n"
   ]
  },
  {
   "cell_type": "markdown",
   "id": "ceb5cccf-abaa-44c0-a4d5-76d82a7892a6",
   "metadata": {},
   "source": [
    "# 1 Describe the role of the `return` statement in Python functions and provide examples.\n",
    "\n"
   ]
  },
  {
   "cell_type": "markdown",
   "id": "5b14045f-3b81-4945-986c-d3404572fa00",
   "metadata": {},
   "source": [
    "The return function is used to return what value we want in a function . \n",
    "when a function is called it may perform some opeeration and return will give the result of that operation.\n",
    "for example:-"
   ]
  },
  {
   "cell_type": "code",
   "execution_count": 8,
   "id": "85593155-3c23-4c47-a947-4cb20c61caa8",
   "metadata": {},
   "outputs": [
    {
     "name": "stdout",
     "output_type": "stream",
     "text": [
      "7\n"
     ]
    }
   ],
   "source": [
    "def add_numbers(x, y):\n",
    "    result = x + y\n",
    "    return result\n",
    "\n",
    "sum_result = add_numbers(3, 4)\n",
    "print(sum_result)  \n"
   ]
  },
  {
   "cell_type": "markdown",
   "id": "43a6adc1-d200-45d0-877e-150b8fb57261",
   "metadata": {},
   "source": [
    "# 2 Explain the concept of variable scope in Python, including local and global variables.\n"
   ]
  },
  {
   "cell_type": "raw",
   "id": "58b3ea54-5b90-4050-ad64-1a872ef6bf7a",
   "metadata": {},
   "source": [
    "Local variables are the variables defined inside a function or a code block. They are only accessible within that specific function or block.\n",
    "\n",
    "def example_function():\n",
    "    x = 10  # This is a local variable\n",
    "    print(x)\n",
    "    \n",
    "Global variables are defined outside of any function or code block and can be accessed throughout the entire program\n",
    "\n",
    "y = 20  # This is a global variable\n",
    "\n",
    "def another_function():\n",
    "    global y  # Using the global keyword to access the global variable\n",
    "    y = 30\n",
    "    print(y)"
   ]
  },
  {
   "cell_type": "markdown",
   "id": "06cdb983-8172-4a5c-9f19-8e832c891b5f",
   "metadata": {},
   "source": [
    "# 3 Write a Python program that demonstrates the use of global variables within functions.\n"
   ]
  },
  {
   "cell_type": "code",
   "execution_count": 3,
   "id": "b5f73b0a-1193-4bed-a554-cdd0df6843fe",
   "metadata": {},
   "outputs": [
    {
     "name": "stdout",
     "output_type": "stream",
     "text": [
      "Inside the function: Global variable = 15\n",
      "Outside the function: Global variable = 15\n"
     ]
    }
   ],
   "source": [
    "# Global variable\n",
    "global_variable = 5\n",
    "\n",
    "def modify_global_variable():\n",
    "    \n",
    "    global global_variable\n",
    "\n",
    "  \n",
    "    global_variable += 10\n",
    "    print(\"Inside the function: Global variable =\", global_variable)\n",
    "\n",
    "# Call the function\n",
    "modify_global_variable()\n",
    "\n",
    "# Outside the function, the global variable has been modified\n",
    "print(\"Outside the function: Global variable =\", global_variable)\n"
   ]
  },
  {
   "cell_type": "markdown",
   "id": "cc15c484-a19d-4091-bcb8-46c12e3a357c",
   "metadata": {},
   "source": [
    "# 4 Create a Python function that calculates the factorial of a number and returns it.\n"
   ]
  },
  {
   "cell_type": "code",
   "execution_count": 15,
   "id": "48b0a719-239e-4d88-9abc-9f4b05086816",
   "metadata": {},
   "outputs": [
    {
     "data": {
      "text/plain": [
       "120"
      ]
     },
     "execution_count": 15,
     "metadata": {},
     "output_type": "execute_result"
    }
   ],
   "source": [
    "def factorial(number):\n",
    "    fact = 1\n",
    "    for i in range(1, number+1):\n",
    "        fact = fact*i\n",
    "        \n",
    "    return fact\n",
    "n = 5\n",
    "factorial(n)"
   ]
  },
  {
   "cell_type": "markdown",
   "id": "c70d0421-e70e-4320-8a95-e9b3805efdc5",
   "metadata": {},
   "source": [
    "# 5 How can you access variables defined outside a function from within the function?\n"
   ]
  },
  {
   "cell_type": "code",
   "execution_count": 6,
   "id": "98fd6143-2c96-4d97-89ab-613ccbb0f59d",
   "metadata": {},
   "outputs": [
    {
     "data": {
      "text/plain": [
       "5"
      ]
     },
     "execution_count": 6,
     "metadata": {},
     "output_type": "execute_result"
    }
   ],
   "source": [
    "variable1= 5\n",
    "def inside_function(variable):\n",
    "    return variable\n",
    "    \n",
    "inside_function(variable1)"
   ]
  },
  {
   "cell_type": "markdown",
   "id": "1d91f3bb-40b7-4b94-bfa5-f5f0e55c22f3",
   "metadata": {},
   "source": [
    "# Lambda Functions and Higher-Order Functions:\n"
   ]
  },
  {
   "cell_type": "markdown",
   "id": "37189265-ae1d-4c4f-81ac-7294339950d8",
   "metadata": {},
   "source": [
    "# 1 What are lambda functions in Python, and when are they typically used?"
   ]
  },
  {
   "cell_type": "markdown",
   "id": "546a759c-0948-4777-8589-1e3c15e19c13",
   "metadata": {},
   "source": [
    " Lambda functions are often used for short, simple operations that can be expressed in a single line of code.\n",
    "\n",
    " The syntax for a lambda function is:\n",
    "\n",
    " lambda arguments: expression\n",
    "\n",
    " Lambda functions are typically used in situations where a small  function is needed for a short period. "
   ]
  },
  {
   "cell_type": "markdown",
   "id": "f8bf36fe-9652-441b-8348-896eda77dffc",
   "metadata": {},
   "source": [
    "# 2 Write a Python program that uses lambda functions to sort a list of tuples based on the second element.\n"
   ]
  },
  {
   "cell_type": "code",
   "execution_count": 54,
   "id": "8b9f4738-4adc-40c0-a854-d928420cdf6a",
   "metadata": {},
   "outputs": [
    {
     "name": "stdout",
     "output_type": "stream",
     "text": [
      "[(2, 4), (8, 6), (5, 7), (3, 9), (1, 10)]\n"
     ]
    }
   ],
   "source": [
    "list_of_tuples = [(3, 9), (5, 7), (8, 6), (2, 4), (1, 10)]\n",
    "sort  = sorted(list_of_tuples, key = lambda x : x[1]) # 1 use for the  second element sort\n",
    "print(sort)"
   ]
  },
  {
   "cell_type": "markdown",
   "id": "4aac8039-2706-4772-a36d-ea97eb129a3f",
   "metadata": {},
   "source": [
    "# 3 Explain the concept of higher-order functions in Python, and provide an example.\n",
    "\n"
   ]
  },
  {
   "cell_type": "markdown",
   "id": "c982b258-bc7c-47b1-b7ad-13621a6f6334",
   "metadata": {
    "tags": []
   },
   "source": [
    "A higher-order function is a function that takes one or more functions as arguments and/or returns a function as its result. \n",
    "for example:-\n"
   ]
  },
  {
   "cell_type": "code",
   "execution_count": null,
   "id": "bcce2f2f-8f12-4f43-8174-b7a5ab2ade54",
   "metadata": {},
   "outputs": [],
   "source": []
  },
  {
   "cell_type": "code",
   "execution_count": null,
   "id": "037c7414-c3e0-4a63-8c60-331244935469",
   "metadata": {},
   "outputs": [
    {
     "name": "stdin",
     "output_type": "stream",
     "text": [
      "Type 'add', 'sub', 'multiply', or 'divide' for the operation:  multiply\n",
      "enter 1st number 10\n",
      "enter 2st number 20\n"
     ]
    },
    {
     "name": "stdout",
     "output_type": "stream",
     "text": [
      "Result: 200\n"
     ]
    }
   ],
   "source": [
    "# defining a higher orderr function \n",
    "def calculator(operation, x,y):\n",
    "    return operation(x,y)\n",
    "def add(x,y):\n",
    "    return x+y\n",
    "def sub(x,y):\n",
    "    return x-y\n",
    "def multiply(x,y):\n",
    "    return x*y\n",
    "def divide(x,y):\n",
    "    return x/y\n",
    "operations  = {'add': add,'sub': sub,'multiply': multiply,'divide': divide}\n",
    "operation_name = input(\"Type 'add', 'sub', 'multiply', or 'divide' for the operation: \")\n",
    "num1 = int(input(\"enter 1st number\"))\n",
    "num2 = int(input(\"enter 2st number\"))\n",
    "if operation_name in operations:\n",
    "    # Performing the calculation using the calculator function\n",
    "    result = calculator(operations[operation_name], num1, num2)\n",
    "    print(\"Result:\", result)\n",
    "else:\n",
    "    print(\"Invalid operation\")"
   ]
  },
  {
   "cell_type": "markdown",
   "id": "7d3197ee-b8cf-415e-a879-5fc4536428b5",
   "metadata": {},
   "source": [
    "# 4 Create a Python function that takes a list of numbers and a function as arguments, applying the function to each element in the list.\n"
   ]
  },
  {
   "cell_type": "code",
   "execution_count": 71,
   "id": "c9318b6b-f357-4c44-8dfc-c4ec799410ac",
   "metadata": {},
   "outputs": [
    {
     "name": "stdout",
     "output_type": "stream",
     "text": [
      "[1, 4, 9, 16, 25]\n"
     ]
    }
   ],
   "source": [
    "def function_list(number, func):\n",
    "    result = [func(num) for num in number]\n",
    "    return result\n",
    "def square(x):\n",
    "    return x ** 2  \n",
    "\n",
    "numbers_list = [1, 2, 3, 4, 5]\n",
    "result_list = function_list(numbers_list,square)\n",
    "result_list1 = function_list(numbers_list,multiply)\n",
    "\n",
    "print (result_list)"
   ]
  },
  {
   "cell_type": "markdown",
   "id": "0c2c05b1-552f-4e29-b09a-21e159bd03c2",
   "metadata": {},
   "source": [
    "# Built-in Functions:"
   ]
  },
  {
   "cell_type": "markdown",
   "id": "e1c15720-d0cc-4a3b-8c8a-c2a3f4520ccb",
   "metadata": {},
   "source": [
    "# 1 Describe the role of built-in functions like `len()`, `max()`, and `min()` in Python"
   ]
  },
  {
   "cell_type": "markdown",
   "id": "927bbc94-ab7a-480e-9cb3-329c8834117b",
   "metadata": {},
   "source": [
    "len() :-\n",
    "function is used to  return  the length of items in the container \n",
    "\n",
    "max()  :- function is used to return  the maximum number from two or more argumernt \n",
    "\n",
    "min() :- function is used to return the minimum number from two or more argument \n",
    "\n"
   ]
  },
  {
   "cell_type": "markdown",
   "id": "fc0befad-f880-4b6d-8ccf-07bc1a23f3f9",
   "metadata": {},
   "source": [
    "# 2 Write a Python program that uses the `map()` function to apply a function to each element of a list."
   ]
  },
  {
   "cell_type": "code",
   "execution_count": 72,
   "id": "949f9147-f9ae-49d8-8088-5cd1750bb214",
   "metadata": {},
   "outputs": [
    {
     "name": "stdout",
     "output_type": "stream",
     "text": [
      "[1, 4, 9, 16, 25, 36, 49, 64, 81]\n"
     ]
    }
   ],
   "source": [
    "list1 = [1,2,3,4,5,6,7,8,9]\n",
    "result = list (map(lambda x: x**2 , list1))\n",
    "print(result)"
   ]
  },
  {
   "cell_type": "markdown",
   "id": "9792beb5-1d2c-4a3b-ac7d-28f4944c838f",
   "metadata": {},
   "source": [
    "# 3 How does the `filter()` function work in Python, and when would you use it?\n"
   ]
  },
  {
   "cell_type": "markdown",
   "id": "2dd8b872-8563-4249-b54e-8dd7de44b90b",
   "metadata": {},
   "source": [
    "Filter() function  filters out elements from an iterable based on a given function.\n",
    "Let's consider an example where the filter() function is used to filter a list of numbers based on a specific condition:"
   ]
  },
  {
   "cell_type": "code",
   "execution_count": 74,
   "id": "ffacaecc-fed4-4837-8f22-83f3732a58d3",
   "metadata": {},
   "outputs": [
    {
     "name": "stdout",
     "output_type": "stream",
     "text": [
      "[2, 4, 6, 8]\n"
     ]
    }
   ],
   "source": [
    "# example\n",
    "list1 = [1,2,3,4,5,6,7,8,9]\n",
    "result = list (filter(lambda x: x if x%2 ==0 else None, list1))\n",
    "print(result)"
   ]
  },
  {
   "cell_type": "markdown",
   "id": "fe165c36-6272-4f24-82d2-55fa7c78030c",
   "metadata": {},
   "source": [
    "# 4 Create a Python program that uses the `reduce()` function to find the product of all elements in a list.\n",
    "\n"
   ]
  },
  {
   "cell_type": "code",
   "execution_count": 78,
   "id": "086cf1bb-f50c-421c-98ce-bacbd9ce4415",
   "metadata": {},
   "outputs": [
    {
     "data": {
      "text/plain": [
       "720"
      ]
     },
     "execution_count": 78,
     "metadata": {},
     "output_type": "execute_result"
    }
   ],
   "source": [
    "from functools import reduce\n",
    "list1 = [1,2,3,4,5,6]\n",
    "reduce(lambda x,y :x*y ,list1)\n"
   ]
  },
  {
   "cell_type": "markdown",
   "id": "e5166623-c5a8-4299-b6d6-905b3f863dcb",
   "metadata": {},
   "source": [
    "# Function Documentation and Best Practices:\n"
   ]
  },
  {
   "cell_type": "markdown",
   "id": "2fc4ca8f-274d-4dd5-b157-9e46652bc7cd",
   "metadata": {},
   "source": [
    "# 1 Explain the purpose of docstrings in Python functions and how to write them."
   ]
  },
  {
   "cell_type": "markdown",
   "id": "7948cce4-ec36-42ea-be61-acb975aa0d9c",
   "metadata": {},
   "source": [
    " Python docstrings are strings used right after the definition of a function, method, class, or module"
   ]
  },
  {
   "cell_type": "code",
   "execution_count": 80,
   "id": "1b04b674-e2cf-492b-b04e-74d8c3a75509",
   "metadata": {},
   "outputs": [],
   "source": [
    "# Here is an example of a function with a docstring:\n",
    "#The docstring is enclosed in triple double-quotes.\n",
    "def add_numbers(a, b):\n",
    "\n",
    "    \"\"\"\n",
    "    Add two numbers together.\n",
    "\n",
    "    Parameters:\n",
    "    - a (int): The first number.\n",
    "    - b (int): The second number.\n",
    "\n",
    "    Returns:\n",
    "    int: Sum of two number \"\"\"\n",
    "    \n",
    "    return a + b"
   ]
  },
  {
   "cell_type": "markdown",
   "id": "4e723291-059d-4d8c-b7f4-85990db373cb",
   "metadata": {},
   "source": [
    "# 2 Describe some best practices for naming functions and variables in Python, including naming conventions and guidelines.\n"
   ]
  },
  {
   "cell_type": "markdown",
   "id": "0c8d461b-7c38-415a-8218-d52987008244",
   "metadata": {},
   "source": [
    "1. snake Case for Functions and Variables:\n",
    "\n",
    "Use lowercase letters with underscores to separate words (snake_case).\n",
    "\n",
    "Example: calculate_total_price, user_input_data\n",
    "\n",
    "2. Camel Case for Method Names:\n",
    "\n",
    "Use camelCase for method names in classes.\n",
    "\n",
    "Example: calculateTotalPrice, getUserInputData\n",
    "\n",
    "3. Uppercase for Constants:\n",
    "\n",
    "Use uppercase letters with underscores for constants.\n",
    "\n",
    "Example: MAX_SIZE, PI_VALUE\n"
   ]
  },
  {
   "cell_type": "code",
   "execution_count": null,
   "id": "e2a0f3e5-b85b-4a0c-ae40-0883e9cc09a5",
   "metadata": {},
   "outputs": [],
   "source": []
  }
 ],
 "metadata": {
  "kernelspec": {
   "display_name": "Python 3 (ipykernel)",
   "language": "python",
   "name": "python3"
  },
  "language_info": {
   "codemirror_mode": {
    "name": "ipython",
    "version": 3
   },
   "file_extension": ".py",
   "mimetype": "text/x-python",
   "name": "python",
   "nbconvert_exporter": "python",
   "pygments_lexer": "ipython3",
   "version": "3.10.8"
  }
 },
 "nbformat": 4,
 "nbformat_minor": 5
}
